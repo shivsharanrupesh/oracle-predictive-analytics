{
 "cells": [
  {
   "cell_type": "code",
   "execution_count": 63,
   "metadata": {},
   "outputs": [],
   "source": [
    "import pandas as pd\n",
    "import plotly.express as pe"
   ]
  },
  {
   "cell_type": "code",
   "execution_count": 64,
   "metadata": {},
   "outputs": [
    {
     "data": {
      "text/html": [
       "<div>\n",
       "<style scoped>\n",
       "    .dataframe tbody tr th:only-of-type {\n",
       "        vertical-align: middle;\n",
       "    }\n",
       "\n",
       "    .dataframe tbody tr th {\n",
       "        vertical-align: top;\n",
       "    }\n",
       "\n",
       "    .dataframe thead th {\n",
       "        text-align: right;\n",
       "    }\n",
       "</style>\n",
       "<table border=\"1\" class=\"dataframe\">\n",
       "  <thead>\n",
       "    <tr style=\"text-align: right;\">\n",
       "      <th></th>\n",
       "      <th>funded_amount</th>\n",
       "      <th>funded_date</th>\n",
       "      <th>duration years</th>\n",
       "      <th>duration months</th>\n",
       "      <th>10 yr treasury index date funded</th>\n",
       "      <th>interest rate percent</th>\n",
       "      <th>interest rate</th>\n",
       "      <th>payments</th>\n",
       "      <th>total past payments</th>\n",
       "      <th>loan balance</th>\n",
       "      <th>...</th>\n",
       "      <th>BUILDING CLASS AT PRESENT</th>\n",
       "      <th>ADDRESS 1</th>\n",
       "      <th>ADDRESS 2</th>\n",
       "      <th>ZIP CODE</th>\n",
       "      <th>CITY</th>\n",
       "      <th>STATE</th>\n",
       "      <th>TOTAL UNITS</th>\n",
       "      <th>LAND SQUARE FEET</th>\n",
       "      <th>GROSS SQUARE FEET</th>\n",
       "      <th>TAX CLASS AT TIME OF SALE</th>\n",
       "    </tr>\n",
       "    <tr>\n",
       "      <th>loan_id</th>\n",
       "      <th></th>\n",
       "      <th></th>\n",
       "      <th></th>\n",
       "      <th></th>\n",
       "      <th></th>\n",
       "      <th></th>\n",
       "      <th></th>\n",
       "      <th></th>\n",
       "      <th></th>\n",
       "      <th></th>\n",
       "      <th></th>\n",
       "      <th></th>\n",
       "      <th></th>\n",
       "      <th></th>\n",
       "      <th></th>\n",
       "      <th></th>\n",
       "      <th></th>\n",
       "      <th></th>\n",
       "      <th></th>\n",
       "      <th></th>\n",
       "      <th></th>\n",
       "    </tr>\n",
       "  </thead>\n",
       "  <tbody>\n",
       "    <tr>\n",
       "      <th>LL0000076</th>\n",
       "      <td>790000.0</td>\n",
       "      <td>2012-04-27</td>\n",
       "      <td>20</td>\n",
       "      <td>240</td>\n",
       "      <td>1.96</td>\n",
       "      <td>3.359</td>\n",
       "      <td>0.03359</td>\n",
       "      <td>4524.65</td>\n",
       "      <td>92</td>\n",
       "      <td>373732.18</td>\n",
       "      <td>...</td>\n",
       "      <td>R1</td>\n",
       "      <td>171 SOUTH 9TH   STREET</td>\n",
       "      <td>9</td>\n",
       "      <td>10001</td>\n",
       "      <td>New York City</td>\n",
       "      <td>NY</td>\n",
       "      <td>1</td>\n",
       "      <td>0</td>\n",
       "      <td>0</td>\n",
       "      <td>2</td>\n",
       "    </tr>\n",
       "    <tr>\n",
       "      <th>LL0000151</th>\n",
       "      <td>1720000.0</td>\n",
       "      <td>2014-10-14</td>\n",
       "      <td>15</td>\n",
       "      <td>180</td>\n",
       "      <td>2.21</td>\n",
       "      <td>3.508</td>\n",
       "      <td>0.03508</td>\n",
       "      <td>12302.74</td>\n",
       "      <td>62</td>\n",
       "      <td>957230.24</td>\n",
       "      <td>...</td>\n",
       "      <td>R3</td>\n",
       "      <td>1242 E 80TH ST</td>\n",
       "      <td>19</td>\n",
       "      <td>10104</td>\n",
       "      <td>New York City</td>\n",
       "      <td>NY</td>\n",
       "      <td>1</td>\n",
       "      <td>0</td>\n",
       "      <td>0</td>\n",
       "      <td>1</td>\n",
       "    </tr>\n",
       "    <tr>\n",
       "      <th>LL0000161</th>\n",
       "      <td>3720000.0</td>\n",
       "      <td>2014-06-07</td>\n",
       "      <td>15</td>\n",
       "      <td>180</td>\n",
       "      <td>2.60</td>\n",
       "      <td>3.896</td>\n",
       "      <td>0.03896</td>\n",
       "      <td>27322.92</td>\n",
       "      <td>66</td>\n",
       "      <td>1916687.35</td>\n",
       "      <td>...</td>\n",
       "      <td>R3</td>\n",
       "      <td>1884 53RD STREET</td>\n",
       "      <td>2</td>\n",
       "      <td>10029</td>\n",
       "      <td>New York City</td>\n",
       "      <td>NY</td>\n",
       "      <td>1</td>\n",
       "      <td>0</td>\n",
       "      <td>0</td>\n",
       "      <td>1</td>\n",
       "    </tr>\n",
       "    <tr>\n",
       "      <th>LL0000175</th>\n",
       "      <td>1079000.0</td>\n",
       "      <td>2012-02-23</td>\n",
       "      <td>20</td>\n",
       "      <td>240</td>\n",
       "      <td>1.99</td>\n",
       "      <td>3.389</td>\n",
       "      <td>0.03389</td>\n",
       "      <td>6196.40</td>\n",
       "      <td>94</td>\n",
       "      <td>496538.75</td>\n",
       "      <td>...</td>\n",
       "      <td>R1</td>\n",
       "      <td>79 EAGLE STREET</td>\n",
       "      <td>6</td>\n",
       "      <td>10010</td>\n",
       "      <td>New York City</td>\n",
       "      <td>NY</td>\n",
       "      <td>1</td>\n",
       "      <td>0</td>\n",
       "      <td>0</td>\n",
       "      <td>2</td>\n",
       "    </tr>\n",
       "    <tr>\n",
       "      <th>LL0000178</th>\n",
       "      <td>2028000.0</td>\n",
       "      <td>2016-04-01</td>\n",
       "      <td>20</td>\n",
       "      <td>240</td>\n",
       "      <td>1.79</td>\n",
       "      <td>3.188</td>\n",
       "      <td>0.03188</td>\n",
       "      <td>11439.05</td>\n",
       "      <td>45</td>\n",
       "      <td>1513242.57</td>\n",
       "      <td>...</td>\n",
       "      <td>RW</td>\n",
       "      <td>34 NORTH 7TH   STREET</td>\n",
       "      <td>5</td>\n",
       "      <td>10172</td>\n",
       "      <td>New York City</td>\n",
       "      <td>NY</td>\n",
       "      <td>1</td>\n",
       "      <td>0</td>\n",
       "      <td>0</td>\n",
       "      <td>4</td>\n",
       "    </tr>\n",
       "    <tr>\n",
       "      <th>...</th>\n",
       "      <td>...</td>\n",
       "      <td>...</td>\n",
       "      <td>...</td>\n",
       "      <td>...</td>\n",
       "      <td>...</td>\n",
       "      <td>...</td>\n",
       "      <td>...</td>\n",
       "      <td>...</td>\n",
       "      <td>...</td>\n",
       "      <td>...</td>\n",
       "      <td>...</td>\n",
       "      <td>...</td>\n",
       "      <td>...</td>\n",
       "      <td>...</td>\n",
       "      <td>...</td>\n",
       "      <td>...</td>\n",
       "      <td>...</td>\n",
       "      <td>...</td>\n",
       "      <td>...</td>\n",
       "      <td>...</td>\n",
       "      <td>...</td>\n",
       "    </tr>\n",
       "    <tr>\n",
       "      <th>LL0001228</th>\n",
       "      <td>528000.0</td>\n",
       "      <td>2012-11-10</td>\n",
       "      <td>20</td>\n",
       "      <td>240</td>\n",
       "      <td>1.61</td>\n",
       "      <td>3.010</td>\n",
       "      <td>0.03009</td>\n",
       "      <td>2930.65</td>\n",
       "      <td>85</td>\n",
       "      <td>278894.35</td>\n",
       "      <td>...</td>\n",
       "      <td>R6</td>\n",
       "      <td>1554 49TH   STREET</td>\n",
       "      <td>1</td>\n",
       "      <td>10158</td>\n",
       "      <td>New York City</td>\n",
       "      <td>NY</td>\n",
       "      <td>1</td>\n",
       "      <td>0</td>\n",
       "      <td>0</td>\n",
       "      <td>1</td>\n",
       "    </tr>\n",
       "    <tr>\n",
       "      <th>LL0001358</th>\n",
       "      <td>885000.0</td>\n",
       "      <td>2015-08-16</td>\n",
       "      <td>20</td>\n",
       "      <td>240</td>\n",
       "      <td>2.20</td>\n",
       "      <td>3.599</td>\n",
       "      <td>0.03599</td>\n",
       "      <td>5177.78</td>\n",
       "      <td>52</td>\n",
       "      <td>615755.47</td>\n",
       "      <td>...</td>\n",
       "      <td>R6</td>\n",
       "      <td>1554 49TH   STREET</td>\n",
       "      <td>2</td>\n",
       "      <td>10108</td>\n",
       "      <td>New York City</td>\n",
       "      <td>NY</td>\n",
       "      <td>1</td>\n",
       "      <td>0</td>\n",
       "      <td>0</td>\n",
       "      <td>1</td>\n",
       "    </tr>\n",
       "    <tr>\n",
       "      <th>LL0001479</th>\n",
       "      <td>1530000.0</td>\n",
       "      <td>2014-09-01</td>\n",
       "      <td>20</td>\n",
       "      <td>240</td>\n",
       "      <td>2.35</td>\n",
       "      <td>3.749</td>\n",
       "      <td>0.03748</td>\n",
       "      <td>9069.60</td>\n",
       "      <td>64</td>\n",
       "      <td>949545.68</td>\n",
       "      <td>...</td>\n",
       "      <td>R6</td>\n",
       "      <td>1554 49TH   STREET</td>\n",
       "      <td>3</td>\n",
       "      <td>10166</td>\n",
       "      <td>New York City</td>\n",
       "      <td>NY</td>\n",
       "      <td>1</td>\n",
       "      <td>0</td>\n",
       "      <td>0</td>\n",
       "      <td>1</td>\n",
       "    </tr>\n",
       "    <tr>\n",
       "      <th>LL0001561</th>\n",
       "      <td>897000.0</td>\n",
       "      <td>2014-02-14</td>\n",
       "      <td>15</td>\n",
       "      <td>180</td>\n",
       "      <td>2.75</td>\n",
       "      <td>4.049</td>\n",
       "      <td>0.04049</td>\n",
       "      <td>6657.05</td>\n",
       "      <td>70</td>\n",
       "      <td>431006.63</td>\n",
       "      <td>...</td>\n",
       "      <td>RR</td>\n",
       "      <td>828 BEDFORD AVENUE</td>\n",
       "      <td>2</td>\n",
       "      <td>10081</td>\n",
       "      <td>New York City</td>\n",
       "      <td>NY</td>\n",
       "      <td>11</td>\n",
       "      <td>0</td>\n",
       "      <td>16376</td>\n",
       "      <td>2</td>\n",
       "    </tr>\n",
       "    <tr>\n",
       "      <th>LL0001674</th>\n",
       "      <td>1656000.0</td>\n",
       "      <td>2016-07-12</td>\n",
       "      <td>15</td>\n",
       "      <td>180</td>\n",
       "      <td>1.53</td>\n",
       "      <td>2.828</td>\n",
       "      <td>0.02828</td>\n",
       "      <td>11299.54</td>\n",
       "      <td>41</td>\n",
       "      <td>1192718.78</td>\n",
       "      <td>...</td>\n",
       "      <td>R8</td>\n",
       "      <td>828 BEDFORD AVENUE</td>\n",
       "      <td>1</td>\n",
       "      <td>10022</td>\n",
       "      <td>New York City</td>\n",
       "      <td>NY</td>\n",
       "      <td>1</td>\n",
       "      <td>0</td>\n",
       "      <td>0</td>\n",
       "      <td>2</td>\n",
       "    </tr>\n",
       "  </tbody>\n",
       "</table>\n",
       "<p>1678 rows × 31 columns</p>\n",
       "</div>"
      ],
      "text/plain": [
       "           funded_amount funded_date  duration years  duration months  \\\n",
       "loan_id                                                                 \n",
       "LL0000076       790000.0  2012-04-27              20              240   \n",
       "LL0000151      1720000.0  2014-10-14              15              180   \n",
       "LL0000161      3720000.0  2014-06-07              15              180   \n",
       "LL0000175      1079000.0  2012-02-23              20              240   \n",
       "LL0000178      2028000.0  2016-04-01              20              240   \n",
       "...                  ...         ...             ...              ...   \n",
       "LL0001228       528000.0  2012-11-10              20              240   \n",
       "LL0001358       885000.0  2015-08-16              20              240   \n",
       "LL0001479      1530000.0  2014-09-01              20              240   \n",
       "LL0001561       897000.0  2014-02-14              15              180   \n",
       "LL0001674      1656000.0  2016-07-12              15              180   \n",
       "\n",
       "           10 yr treasury index date funded  interest rate percent  \\\n",
       "loan_id                                                              \n",
       "LL0000076                              1.96                  3.359   \n",
       "LL0000151                              2.21                  3.508   \n",
       "LL0000161                              2.60                  3.896   \n",
       "LL0000175                              1.99                  3.389   \n",
       "LL0000178                              1.79                  3.188   \n",
       "...                                     ...                    ...   \n",
       "LL0001228                              1.61                  3.010   \n",
       "LL0001358                              2.20                  3.599   \n",
       "LL0001479                              2.35                  3.749   \n",
       "LL0001561                              2.75                  4.049   \n",
       "LL0001674                              1.53                  2.828   \n",
       "\n",
       "           interest rate  payments  total past payments  loan balance  ...  \\\n",
       "loan_id                                                                ...   \n",
       "LL0000076        0.03359   4524.65                   92     373732.18  ...   \n",
       "LL0000151        0.03508  12302.74                   62     957230.24  ...   \n",
       "LL0000161        0.03896  27322.92                   66    1916687.35  ...   \n",
       "LL0000175        0.03389   6196.40                   94     496538.75  ...   \n",
       "LL0000178        0.03188  11439.05                   45    1513242.57  ...   \n",
       "...                  ...       ...                  ...           ...  ...   \n",
       "LL0001228        0.03009   2930.65                   85     278894.35  ...   \n",
       "LL0001358        0.03599   5177.78                   52     615755.47  ...   \n",
       "LL0001479        0.03748   9069.60                   64     949545.68  ...   \n",
       "LL0001561        0.04049   6657.05                   70     431006.63  ...   \n",
       "LL0001674        0.02828  11299.54                   41    1192718.78  ...   \n",
       "\n",
       "           BUILDING CLASS AT PRESENT               ADDRESS 1 ADDRESS 2  \\\n",
       "loan_id                                                                  \n",
       "LL0000076                         R1  171 SOUTH 9TH   STREET         9   \n",
       "LL0000151                         R3          1242 E 80TH ST        19   \n",
       "LL0000161                         R3        1884 53RD STREET         2   \n",
       "LL0000175                         R1         79 EAGLE STREET         6   \n",
       "LL0000178                         RW   34 NORTH 7TH   STREET         5   \n",
       "...                              ...                     ...       ...   \n",
       "LL0001228                         R6      1554 49TH   STREET         1   \n",
       "LL0001358                         R6      1554 49TH   STREET         2   \n",
       "LL0001479                         R6      1554 49TH   STREET         3   \n",
       "LL0001561                         RR      828 BEDFORD AVENUE         2   \n",
       "LL0001674                         R8      828 BEDFORD AVENUE         1   \n",
       "\n",
       "          ZIP CODE           CITY STATE TOTAL UNITS LAND SQUARE FEET  \\\n",
       "loan_id                                                                \n",
       "LL0000076    10001  New York City    NY           1                0   \n",
       "LL0000151    10104  New York City    NY           1                0   \n",
       "LL0000161    10029  New York City    NY           1                0   \n",
       "LL0000175    10010  New York City    NY           1                0   \n",
       "LL0000178    10172  New York City    NY           1                0   \n",
       "...            ...            ...   ...         ...              ...   \n",
       "LL0001228    10158  New York City    NY           1                0   \n",
       "LL0001358    10108  New York City    NY           1                0   \n",
       "LL0001479    10166  New York City    NY           1                0   \n",
       "LL0001561    10081  New York City    NY          11                0   \n",
       "LL0001674    10022  New York City    NY           1                0   \n",
       "\n",
       "           GROSS SQUARE FEET TAX CLASS AT TIME OF SALE  \n",
       "loan_id                                                 \n",
       "LL0000076                  0                         2  \n",
       "LL0000151                  0                         1  \n",
       "LL0000161                  0                         1  \n",
       "LL0000175                  0                         2  \n",
       "LL0000178                  0                         4  \n",
       "...                      ...                       ...  \n",
       "LL0001228                  0                         1  \n",
       "LL0001358                  0                         1  \n",
       "LL0001479                  0                         1  \n",
       "LL0001561              16376                         2  \n",
       "LL0001674                  0                         2  \n",
       "\n",
       "[1678 rows x 31 columns]"
      ]
     },
     "execution_count": 64,
     "metadata": {},
     "output_type": "execute_result"
    }
   ],
   "source": [
    "path = \"https://raw.githubusercontent.com/techficent/oracle-predictive-analytics/main/LuxuryLoanPortfolio.csv\"\n",
    "df = pd.read_csv(path,   index_col='loan_id',   parse_dates=['funded_date'])\n",
    "df"
   ]
  },
  {
   "cell_type": "code",
   "execution_count": 65,
   "metadata": {},
   "outputs": [
    {
     "data": {
      "text/html": [
       "<div>\n",
       "<style scoped>\n",
       "    .dataframe tbody tr th:only-of-type {\n",
       "        vertical-align: middle;\n",
       "    }\n",
       "\n",
       "    .dataframe tbody tr th {\n",
       "        vertical-align: top;\n",
       "    }\n",
       "\n",
       "    .dataframe thead th {\n",
       "        text-align: right;\n",
       "    }\n",
       "</style>\n",
       "<table border=\"1\" class=\"dataframe\">\n",
       "  <thead>\n",
       "    <tr style=\"text-align: right;\">\n",
       "      <th></th>\n",
       "      <th>funded_amount</th>\n",
       "      <th>funded_date</th>\n",
       "      <th>duration years</th>\n",
       "      <th>duration months</th>\n",
       "      <th>10 yr treasury index date funded</th>\n",
       "      <th>interest rate percent</th>\n",
       "      <th>interest rate</th>\n",
       "      <th>payments</th>\n",
       "      <th>total past payments</th>\n",
       "      <th>loan balance</th>\n",
       "      <th>...</th>\n",
       "      <th>BUILDING CLASS AT PRESENT</th>\n",
       "      <th>ADDRESS 1</th>\n",
       "      <th>ADDRESS 2</th>\n",
       "      <th>ZIP CODE</th>\n",
       "      <th>CITY</th>\n",
       "      <th>STATE</th>\n",
       "      <th>TOTAL UNITS</th>\n",
       "      <th>LAND SQUARE FEET</th>\n",
       "      <th>GROSS SQUARE FEET</th>\n",
       "      <th>TAX CLASS AT TIME OF SALE</th>\n",
       "    </tr>\n",
       "    <tr>\n",
       "      <th>loan_id</th>\n",
       "      <th></th>\n",
       "      <th></th>\n",
       "      <th></th>\n",
       "      <th></th>\n",
       "      <th></th>\n",
       "      <th></th>\n",
       "      <th></th>\n",
       "      <th></th>\n",
       "      <th></th>\n",
       "      <th></th>\n",
       "      <th></th>\n",
       "      <th></th>\n",
       "      <th></th>\n",
       "      <th></th>\n",
       "      <th></th>\n",
       "      <th></th>\n",
       "      <th></th>\n",
       "      <th></th>\n",
       "      <th></th>\n",
       "      <th></th>\n",
       "      <th></th>\n",
       "    </tr>\n",
       "  </thead>\n",
       "  <tbody>\n",
       "    <tr>\n",
       "      <th>LL0001689</th>\n",
       "      <td>2028000.0</td>\n",
       "      <td>2018-05-05</td>\n",
       "      <td>30</td>\n",
       "      <td>360</td>\n",
       "      <td>2.95</td>\n",
       "      <td>4.548</td>\n",
       "      <td>0.04548</td>\n",
       "      <td>10333.5</td>\n",
       "      <td>19</td>\n",
       "      <td>1831663.53</td>\n",
       "      <td>...</td>\n",
       "      <td>R4</td>\n",
       "      <td>143 LEXINGTON AVENUE</td>\n",
       "      <td>6</td>\n",
       "      <td>10172</td>\n",
       "      <td>New York City</td>\n",
       "      <td>NY</td>\n",
       "      <td>1</td>\n",
       "      <td>-</td>\n",
       "      <td>-</td>\n",
       "      <td>2</td>\n",
       "    </tr>\n",
       "  </tbody>\n",
       "</table>\n",
       "<p>1 rows × 31 columns</p>\n",
       "</div>"
      ],
      "text/plain": [
       "           funded_amount funded_date  duration years  duration months  \\\n",
       "loan_id                                                                 \n",
       "LL0001689      2028000.0  2018-05-05              30              360   \n",
       "\n",
       "           10 yr treasury index date funded  interest rate percent  \\\n",
       "loan_id                                                              \n",
       "LL0001689                              2.95                  4.548   \n",
       "\n",
       "           interest rate  payments  total past payments  loan balance  ...  \\\n",
       "loan_id                                                                ...   \n",
       "LL0001689        0.04548   10333.5                   19    1831663.53  ...   \n",
       "\n",
       "           BUILDING CLASS AT PRESENT             ADDRESS 1 ADDRESS 2 ZIP CODE  \\\n",
       "loan_id                                                                         \n",
       "LL0001689                         R4  143 LEXINGTON AVENUE         6    10172   \n",
       "\n",
       "                    CITY STATE TOTAL UNITS LAND SQUARE FEET  \\\n",
       "loan_id                                                       \n",
       "LL0001689  New York City    NY           1              -     \n",
       "\n",
       "           GROSS SQUARE FEET TAX CLASS AT TIME OF SALE  \n",
       "loan_id                                                 \n",
       "LL0001689                -                           2  \n",
       "\n",
       "[1 rows x 31 columns]"
      ]
     },
     "execution_count": 65,
     "metadata": {},
     "output_type": "execute_result"
    }
   ],
   "source": [
    "df.sample(1)"
   ]
  },
  {
   "cell_type": "code",
   "execution_count": 66,
   "metadata": {},
   "outputs": [
    {
     "name": "stdout",
     "output_type": "stream",
     "text": [
      "<class 'pandas.core.frame.DataFrame'>\n",
      "Index: 1678 entries, LL0000076 to LL0001674\n",
      "Data columns (total 31 columns):\n",
      " #   Column                            Non-Null Count  Dtype         \n",
      "---  ------                            --------------  -----         \n",
      " 0   funded_amount                     1678 non-null   float64       \n",
      " 1   funded_date                       1678 non-null   datetime64[ns]\n",
      " 2   duration years                    1678 non-null   int64         \n",
      " 3   duration months                   1678 non-null   int64         \n",
      " 4   10 yr treasury index date funded  1678 non-null   float64       \n",
      " 5   interest rate percent             1678 non-null   float64       \n",
      " 6   interest rate                     1678 non-null   float64       \n",
      " 7   payments                          1678 non-null   float64       \n",
      " 8   total past payments               1678 non-null   int64         \n",
      " 9   loan balance                      1678 non-null   float64       \n",
      " 10  property value                    1678 non-null   float64       \n",
      " 11  purpose                           1678 non-null   object        \n",
      " 12  firstname                         1678 non-null   object        \n",
      " 13  middlename                        1678 non-null   object        \n",
      " 14  lastname                          1678 non-null   object        \n",
      " 15  social                            1678 non-null   object        \n",
      " 16  phone                             1678 non-null   object        \n",
      " 17  title                             1666 non-null   object        \n",
      " 18  employment length                 1678 non-null   int64         \n",
      " 19  BUILDING CLASS CATEGORY           1678 non-null   object        \n",
      " 20  TAX CLASS AT PRESENT              1678 non-null   object        \n",
      " 21  BUILDING CLASS AT PRESENT         1678 non-null   object        \n",
      " 22  ADDRESS 1                         1678 non-null   object        \n",
      " 23  ADDRESS 2                         1678 non-null   object        \n",
      " 24  ZIP CODE                          1678 non-null   int64         \n",
      " 25  CITY                              1678 non-null   object        \n",
      " 26  STATE                             1678 non-null   object        \n",
      " 27  TOTAL UNITS                       1678 non-null   int64         \n",
      " 28  LAND SQUARE FEET                  1678 non-null   object        \n",
      " 29  GROSS SQUARE FEET                 1678 non-null   object        \n",
      " 30  TAX CLASS AT TIME OF SALE         1678 non-null   int64         \n",
      "dtypes: datetime64[ns](1), float64(7), int64(7), object(16)\n",
      "memory usage: 419.5+ KB\n"
     ]
    }
   ],
   "source": [
    "df.info()"
   ]
  },
  {
   "cell_type": "code",
   "execution_count": 67,
   "metadata": {},
   "outputs": [
    {
     "data": {
      "text/plain": [
       "funded_amount                        507\n",
       "funded_date                         1256\n",
       "duration years                         4\n",
       "duration months                        4\n",
       "10 yr treasury index date funded     338\n",
       "interest rate percent                661\n",
       "interest rate                        662\n",
       "payments                            1661\n",
       "total past payments                   97\n",
       "loan balance                        1675\n",
       "property value                      1635\n",
       "purpose                                5\n",
       "firstname                            952\n",
       "middlename                           777\n",
       "lastname                            1034\n",
       "social                              1678\n",
       "phone                               1678\n",
       "title                                870\n",
       "employment length                     18\n",
       "BUILDING CLASS CATEGORY               24\n",
       "TAX CLASS AT PRESENT                   8\n",
       "BUILDING CLASS AT PRESENT             46\n",
       "ADDRESS 1                           1309\n",
       "ADDRESS 2                             56\n",
       "ZIP CODE                             109\n",
       "CITY                                   1\n",
       "STATE                                  1\n",
       "TOTAL UNITS                           27\n",
       "LAND SQUARE FEET                     202\n",
       "GROSS SQUARE FEET                    294\n",
       "TAX CLASS AT TIME OF SALE              3\n",
       "dtype: int64"
      ]
     },
     "execution_count": 67,
     "metadata": {},
     "output_type": "execute_result"
    }
   ],
   "source": [
    "df.nunique()"
   ]
  },
  {
   "cell_type": "code",
   "execution_count": 68,
   "metadata": {},
   "outputs": [
    {
     "data": {
      "text/plain": [
       "dtype('int64')"
      ]
     },
     "execution_count": 68,
     "metadata": {},
     "output_type": "execute_result"
    }
   ],
   "source": [
    "df['employment length'].dtype"
   ]
  },
  {
   "cell_type": "code",
   "execution_count": 69,
   "metadata": {},
   "outputs": [
    {
     "data": {
      "text/plain": [
       "Index(['funded_amount', 'funded_date', 'duration years', 'duration months',\n",
       "       '10 yr treasury index date funded', 'interest rate percent',\n",
       "       'interest rate', 'payments', 'total past payments', 'loan balance',\n",
       "       'property value', 'purpose', 'firstname', 'middlename', 'lastname',\n",
       "       'social', 'phone', 'title', 'employment length',\n",
       "       'BUILDING CLASS CATEGORY', 'TAX CLASS AT PRESENT',\n",
       "       'BUILDING CLASS AT PRESENT', 'ADDRESS 1', 'ADDRESS 2', 'ZIP CODE',\n",
       "       'CITY', 'STATE', 'TOTAL UNITS', 'LAND SQUARE FEET', 'GROSS SQUARE FEET',\n",
       "       'TAX CLASS AT TIME OF SALE'],\n",
       "      dtype='object')"
      ]
     },
     "execution_count": 69,
     "metadata": {},
     "output_type": "execute_result"
    }
   ],
   "source": [
    "df.columns"
   ]
  },
  {
   "cell_type": "code",
   "execution_count": 70,
   "metadata": {},
   "outputs": [
    {
     "data": {
      "text/plain": [
       "(1678, 31)"
      ]
     },
     "execution_count": 70,
     "metadata": {},
     "output_type": "execute_result"
    }
   ],
   "source": [
    "df.shape"
   ]
  },
  {
   "cell_type": "code",
   "execution_count": 71,
   "metadata": {},
   "outputs": [
    {
     "data": {
      "text/plain": [
       "Index(['LL0000076', 'LL0000151', 'LL0000161', 'LL0000175', 'LL0000178',\n",
       "       'LL0000195', 'LL0000206', 'LL0000234', 'LL0000250', 'LL0000311',\n",
       "       ...\n",
       "       'LL0000884', 'LL0000895', 'LL0000972', 'LL0001017', 'LL0001152',\n",
       "       'LL0001228', 'LL0001358', 'LL0001479', 'LL0001561', 'LL0001674'],\n",
       "      dtype='object', name='loan_id', length=1678)"
      ]
     },
     "execution_count": 71,
     "metadata": {},
     "output_type": "execute_result"
    }
   ],
   "source": [
    "df.index"
   ]
  },
  {
   "cell_type": "code",
   "execution_count": 72,
   "metadata": {},
   "outputs": [
    {
     "data": {
      "text/html": [
       "<div>\n",
       "<style scoped>\n",
       "    .dataframe tbody tr th:only-of-type {\n",
       "        vertical-align: middle;\n",
       "    }\n",
       "\n",
       "    .dataframe tbody tr th {\n",
       "        vertical-align: top;\n",
       "    }\n",
       "\n",
       "    .dataframe thead th {\n",
       "        text-align: right;\n",
       "    }\n",
       "</style>\n",
       "<table border=\"1\" class=\"dataframe\">\n",
       "  <thead>\n",
       "    <tr style=\"text-align: right;\">\n",
       "      <th></th>\n",
       "      <th>funded_amount</th>\n",
       "      <th>duration years</th>\n",
       "      <th>duration months</th>\n",
       "      <th>10 yr treasury index date funded</th>\n",
       "      <th>interest rate percent</th>\n",
       "      <th>interest rate</th>\n",
       "      <th>payments</th>\n",
       "      <th>total past payments</th>\n",
       "      <th>loan balance</th>\n",
       "      <th>property value</th>\n",
       "      <th>employment length</th>\n",
       "      <th>ZIP CODE</th>\n",
       "      <th>TOTAL UNITS</th>\n",
       "      <th>TAX CLASS AT TIME OF SALE</th>\n",
       "    </tr>\n",
       "  </thead>\n",
       "  <tbody>\n",
       "    <tr>\n",
       "      <th>count</th>\n",
       "      <td>1.678000e+03</td>\n",
       "      <td>1678.000000</td>\n",
       "      <td>1678.000000</td>\n",
       "      <td>1678.000000</td>\n",
       "      <td>1678.000000</td>\n",
       "      <td>1678.000000</td>\n",
       "      <td>1678.000000</td>\n",
       "      <td>1678.000000</td>\n",
       "      <td>1.678000e+03</td>\n",
       "      <td>1.678000e+03</td>\n",
       "      <td>1678.000000</td>\n",
       "      <td>1678.000000</td>\n",
       "      <td>1678.000000</td>\n",
       "      <td>1678.000000</td>\n",
       "    </tr>\n",
       "    <tr>\n",
       "      <th>mean</th>\n",
       "      <td>1.848830e+06</td>\n",
       "      <td>27.362932</td>\n",
       "      <td>328.355185</td>\n",
       "      <td>2.255025</td>\n",
       "      <td>3.800451</td>\n",
       "      <td>0.038004</td>\n",
       "      <td>9630.000787</td>\n",
       "      <td>47.147795</td>\n",
       "      <td>1.412786e+06</td>\n",
       "      <td>2.012219e+06</td>\n",
       "      <td>9.318832</td>\n",
       "      <td>10098.516687</td>\n",
       "      <td>2.736591</td>\n",
       "      <td>1.870083</td>\n",
       "    </tr>\n",
       "    <tr>\n",
       "      <th>std</th>\n",
       "      <td>3.953120e+06</td>\n",
       "      <td>5.616759</td>\n",
       "      <td>67.401114</td>\n",
       "      <td>0.439442</td>\n",
       "      <td>0.450005</td>\n",
       "      <td>0.004500</td>\n",
       "      <td>24811.073341</td>\n",
       "      <td>28.375068</td>\n",
       "      <td>3.589084e+06</td>\n",
       "      <td>3.951243e+06</td>\n",
       "      <td>5.095769</td>\n",
       "      <td>76.606597</td>\n",
       "      <td>4.355791</td>\n",
       "      <td>0.670388</td>\n",
       "    </tr>\n",
       "    <tr>\n",
       "      <th>min</th>\n",
       "      <td>4.400000e+05</td>\n",
       "      <td>10.000000</td>\n",
       "      <td>120.000000</td>\n",
       "      <td>1.370000</td>\n",
       "      <td>2.648000</td>\n",
       "      <td>0.026480</td>\n",
       "      <td>1900.780000</td>\n",
       "      <td>0.000000</td>\n",
       "      <td>1.978503e+05</td>\n",
       "      <td>4.732000e+05</td>\n",
       "      <td>1.000000</td>\n",
       "      <td>10001.000000</td>\n",
       "      <td>0.000000</td>\n",
       "      <td>1.000000</td>\n",
       "    </tr>\n",
       "    <tr>\n",
       "      <th>25%</th>\n",
       "      <td>1.088750e+06</td>\n",
       "      <td>30.000000</td>\n",
       "      <td>360.000000</td>\n",
       "      <td>1.880000</td>\n",
       "      <td>3.446500</td>\n",
       "      <td>0.034465</td>\n",
       "      <td>5256.095000</td>\n",
       "      <td>22.000000</td>\n",
       "      <td>7.343423e+05</td>\n",
       "      <td>1.229188e+06</td>\n",
       "      <td>5.000000</td>\n",
       "      <td>10026.000000</td>\n",
       "      <td>1.000000</td>\n",
       "      <td>2.000000</td>\n",
       "    </tr>\n",
       "    <tr>\n",
       "      <th>50%</th>\n",
       "      <td>1.490000e+06</td>\n",
       "      <td>30.000000</td>\n",
       "      <td>360.000000</td>\n",
       "      <td>2.240000</td>\n",
       "      <td>3.787500</td>\n",
       "      <td>0.037875</td>\n",
       "      <td>7356.725000</td>\n",
       "      <td>47.000000</td>\n",
       "      <td>1.102861e+06</td>\n",
       "      <td>1.653925e+06</td>\n",
       "      <td>9.000000</td>\n",
       "      <td>10104.000000</td>\n",
       "      <td>1.000000</td>\n",
       "      <td>2.000000</td>\n",
       "    </tr>\n",
       "    <tr>\n",
       "      <th>75%</th>\n",
       "      <td>1.848000e+06</td>\n",
       "      <td>30.000000</td>\n",
       "      <td>360.000000</td>\n",
       "      <td>2.600000</td>\n",
       "      <td>4.145000</td>\n",
       "      <td>0.041450</td>\n",
       "      <td>9755.227500</td>\n",
       "      <td>72.000000</td>\n",
       "      <td>1.487449e+06</td>\n",
       "      <td>2.035638e+06</td>\n",
       "      <td>14.000000</td>\n",
       "      <td>10159.000000</td>\n",
       "      <td>4.000000</td>\n",
       "      <td>2.000000</td>\n",
       "    </tr>\n",
       "    <tr>\n",
       "      <th>max</th>\n",
       "      <td>1.560000e+08</td>\n",
       "      <td>30.000000</td>\n",
       "      <td>360.000000</td>\n",
       "      <td>3.230000</td>\n",
       "      <td>4.828000</td>\n",
       "      <td>0.048280</td>\n",
       "      <td>981383.990000</td>\n",
       "      <td>96.000000</td>\n",
       "      <td>1.432420e+08</td>\n",
       "      <td>1.560209e+08</td>\n",
       "      <td>18.000000</td>\n",
       "      <td>10282.000000</td>\n",
       "      <td>72.000000</td>\n",
       "      <td>4.000000</td>\n",
       "    </tr>\n",
       "  </tbody>\n",
       "</table>\n",
       "</div>"
      ],
      "text/plain": [
       "       funded_amount  duration years  duration months  \\\n",
       "count   1.678000e+03     1678.000000      1678.000000   \n",
       "mean    1.848830e+06       27.362932       328.355185   \n",
       "std     3.953120e+06        5.616759        67.401114   \n",
       "min     4.400000e+05       10.000000       120.000000   \n",
       "25%     1.088750e+06       30.000000       360.000000   \n",
       "50%     1.490000e+06       30.000000       360.000000   \n",
       "75%     1.848000e+06       30.000000       360.000000   \n",
       "max     1.560000e+08       30.000000       360.000000   \n",
       "\n",
       "       10 yr treasury index date funded  interest rate percent  interest rate  \\\n",
       "count                       1678.000000            1678.000000    1678.000000   \n",
       "mean                           2.255025               3.800451       0.038004   \n",
       "std                            0.439442               0.450005       0.004500   \n",
       "min                            1.370000               2.648000       0.026480   \n",
       "25%                            1.880000               3.446500       0.034465   \n",
       "50%                            2.240000               3.787500       0.037875   \n",
       "75%                            2.600000               4.145000       0.041450   \n",
       "max                            3.230000               4.828000       0.048280   \n",
       "\n",
       "            payments  total past payments  loan balance  property value  \\\n",
       "count    1678.000000          1678.000000  1.678000e+03    1.678000e+03   \n",
       "mean     9630.000787            47.147795  1.412786e+06    2.012219e+06   \n",
       "std     24811.073341            28.375068  3.589084e+06    3.951243e+06   \n",
       "min      1900.780000             0.000000  1.978503e+05    4.732000e+05   \n",
       "25%      5256.095000            22.000000  7.343423e+05    1.229188e+06   \n",
       "50%      7356.725000            47.000000  1.102861e+06    1.653925e+06   \n",
       "75%      9755.227500            72.000000  1.487449e+06    2.035638e+06   \n",
       "max    981383.990000            96.000000  1.432420e+08    1.560209e+08   \n",
       "\n",
       "       employment length      ZIP CODE  TOTAL UNITS  TAX CLASS AT TIME OF SALE  \n",
       "count        1678.000000   1678.000000  1678.000000                1678.000000  \n",
       "mean            9.318832  10098.516687     2.736591                   1.870083  \n",
       "std             5.095769     76.606597     4.355791                   0.670388  \n",
       "min             1.000000  10001.000000     0.000000                   1.000000  \n",
       "25%             5.000000  10026.000000     1.000000                   2.000000  \n",
       "50%             9.000000  10104.000000     1.000000                   2.000000  \n",
       "75%            14.000000  10159.000000     4.000000                   2.000000  \n",
       "max            18.000000  10282.000000    72.000000                   4.000000  "
      ]
     },
     "execution_count": 72,
     "metadata": {},
     "output_type": "execute_result"
    }
   ],
   "source": [
    "df.describe()"
   ]
  },
  {
   "attachments": {},
   "cell_type": "markdown",
   "metadata": {},
   "source": [
    "### data type conversion"
   ]
  },
  {
   "cell_type": "code",
   "execution_count": 73,
   "metadata": {},
   "outputs": [
    {
     "name": "stdout",
     "output_type": "stream",
     "text": [
      "<class 'pandas.core.frame.DataFrame'>\n",
      "Index: 1678 entries, LL0000076 to LL0001674\n",
      "Data columns (total 31 columns):\n",
      " #   Column                            Non-Null Count  Dtype         \n",
      "---  ------                            --------------  -----         \n",
      " 0   funded_amount                     1678 non-null   float64       \n",
      " 1   funded_date                       1678 non-null   datetime64[ns]\n",
      " 2   duration years                    1678 non-null   category      \n",
      " 3   duration months                   1678 non-null   category      \n",
      " 4   10 yr treasury index date funded  1678 non-null   float64       \n",
      " 5   interest rate percent             1678 non-null   float64       \n",
      " 6   interest rate                     1678 non-null   float64       \n",
      " 7   payments                          1678 non-null   float64       \n",
      " 8   total past payments               1678 non-null   int64         \n",
      " 9   loan balance                      1678 non-null   float64       \n",
      " 10  property value                    1678 non-null   float64       \n",
      " 11  purpose                           1678 non-null   object        \n",
      " 12  firstname                         1678 non-null   object        \n",
      " 13  middlename                        1678 non-null   object        \n",
      " 14  lastname                          1678 non-null   object        \n",
      " 15  social                            1678 non-null   object        \n",
      " 16  phone                             1678 non-null   object        \n",
      " 17  title                             1666 non-null   object        \n",
      " 18  employment length                 1678 non-null   category      \n",
      " 19  BUILDING CLASS CATEGORY           1678 non-null   object        \n",
      " 20  TAX CLASS AT PRESENT              1678 non-null   object        \n",
      " 21  BUILDING CLASS AT PRESENT         1678 non-null   object        \n",
      " 22  ADDRESS 1                         1678 non-null   object        \n",
      " 23  ADDRESS 2                         1678 non-null   object        \n",
      " 24  ZIP CODE                          1678 non-null   category      \n",
      " 25  CITY                              1678 non-null   object        \n",
      " 26  STATE                             1678 non-null   object        \n",
      " 27  TOTAL UNITS                       1678 non-null   int64         \n",
      " 28  LAND SQUARE FEET                  1678 non-null   object        \n",
      " 29  GROSS SQUARE FEET                 1678 non-null   object        \n",
      " 30  TAX CLASS AT TIME OF SALE         1678 non-null   int64         \n",
      "dtypes: category(4), datetime64[ns](1), float64(7), int64(3), object(16)\n",
      "memory usage: 379.6+ KB\n"
     ]
    }
   ],
   "source": [
    "cols=[\"employment length\" , \"ZIP CODE\", \"duration years\", \"duration months\"] \n",
    "df[  cols    ] =  df[cols].astype(\"category\")\n",
    "df.info()"
   ]
  },
  {
   "attachments": {},
   "cell_type": "markdown",
   "metadata": {},
   "source": [
    "### change column names"
   ]
  },
  {
   "attachments": {},
   "cell_type": "markdown",
   "metadata": {},
   "source": [
    "split function:  break down a string into separate tokens based on space by default\n",
    "\n",
    "harshit shukla:    [      \"harshit\",   \"shukla\"    ]\n",
    "\n",
    "\n",
    "#to make new_cols1 list, these are the steps:\n",
    "\n",
    "# repeat these 4 steps for each column in df column list\n",
    "    ## 1) fetching a name from column headers\n",
    "    ## 2) convert it to lower case\n",
    "    ## 3) split the column names into separate words\n",
    "    ## 4) the join method will now join the separated words using an _\n"
   ]
  },
  {
   "cell_type": "code",
   "execution_count": 74,
   "metadata": {},
   "outputs": [
    {
     "name": "stdout",
     "output_type": "stream",
     "text": [
      "['funded_amount', 'funded_date', 'duration_years', 'duration_months', '10_yr_treasury_index_date_funded', 'interest_rate_percent', 'interest_rate', 'payments', 'total_past_payments', 'loan_balance', 'property_value', 'purpose', 'firstname', 'middlename', 'lastname', 'social', 'phone', 'title', 'employment_length', 'building_class_category', 'tax_class_at_present', 'building_class_at_present', 'address_1', 'address_2', 'zip_code', 'city', 'state', 'total_units', 'land_square_feet', 'gross_square_feet', 'tax_class_at_time_of_sale']\n"
     ]
    }
   ],
   "source": [
    "new_cols1 = []\n",
    "for name in df.columns:\n",
    "    name = name.lower()\n",
    "    name = name.split()\n",
    "    ans = \"_\".join(name)\n",
    "    new_cols1.append(ans)\n",
    "print(new_cols1)"
   ]
  },
  {
   "cell_type": "code",
   "execution_count": 75,
   "metadata": {},
   "outputs": [
    {
     "name": "stdout",
     "output_type": "stream",
     "text": [
      "['funded_amount', 'funded_date', 'duration_years', 'duration_months', '10_yr_treasury_index_date_funded', 'interest_rate_percent', 'interest_rate', 'payments', 'total_past_payments', 'loan_balance', 'property_value', 'purpose', 'firstname', 'middlename', 'lastname', 'social', 'phone', 'title', 'employment_length', 'building_class_category', 'tax_class_at_present', 'building_class_at_present', 'address_1', 'address_2', 'zip_code', 'city', 'state', 'total_units', 'land_square_feet', 'gross_square_feet', 'tax_class_at_time_of_sale']\n"
     ]
    }
   ],
   "source": [
    "#join words in a column name using _ character and repeat this for all columns of the dataframe\n",
    "new_cols1 = [       \"_\".join(    name.lower().split()      ) for name in df.columns              ]\n",
    "print(new_cols1)"
   ]
  },
  {
   "cell_type": "code",
   "execution_count": 76,
   "metadata": {},
   "outputs": [
    {
     "data": {
      "text/html": [
       "<div>\n",
       "<style scoped>\n",
       "    .dataframe tbody tr th:only-of-type {\n",
       "        vertical-align: middle;\n",
       "    }\n",
       "\n",
       "    .dataframe tbody tr th {\n",
       "        vertical-align: top;\n",
       "    }\n",
       "\n",
       "    .dataframe thead th {\n",
       "        text-align: right;\n",
       "    }\n",
       "</style>\n",
       "<table border=\"1\" class=\"dataframe\">\n",
       "  <thead>\n",
       "    <tr style=\"text-align: right;\">\n",
       "      <th></th>\n",
       "      <th>funded_amount</th>\n",
       "      <th>funded_date</th>\n",
       "      <th>duration_years</th>\n",
       "      <th>duration_months</th>\n",
       "      <th>10_yr_treasury_index_date_funded</th>\n",
       "      <th>interest_rate_percent</th>\n",
       "      <th>interest_rate</th>\n",
       "      <th>payments</th>\n",
       "      <th>total_past_payments</th>\n",
       "      <th>loan_balance</th>\n",
       "      <th>...</th>\n",
       "      <th>building_class_at_present</th>\n",
       "      <th>address_1</th>\n",
       "      <th>address_2</th>\n",
       "      <th>zip_code</th>\n",
       "      <th>city</th>\n",
       "      <th>state</th>\n",
       "      <th>total_units</th>\n",
       "      <th>land_square_feet</th>\n",
       "      <th>gross_square_feet</th>\n",
       "      <th>tax_class_at_time_of_sale</th>\n",
       "    </tr>\n",
       "    <tr>\n",
       "      <th>loan_id</th>\n",
       "      <th></th>\n",
       "      <th></th>\n",
       "      <th></th>\n",
       "      <th></th>\n",
       "      <th></th>\n",
       "      <th></th>\n",
       "      <th></th>\n",
       "      <th></th>\n",
       "      <th></th>\n",
       "      <th></th>\n",
       "      <th></th>\n",
       "      <th></th>\n",
       "      <th></th>\n",
       "      <th></th>\n",
       "      <th></th>\n",
       "      <th></th>\n",
       "      <th></th>\n",
       "      <th></th>\n",
       "      <th></th>\n",
       "      <th></th>\n",
       "      <th></th>\n",
       "    </tr>\n",
       "  </thead>\n",
       "  <tbody>\n",
       "    <tr>\n",
       "      <th>LL0000076</th>\n",
       "      <td>790000.0</td>\n",
       "      <td>2012-04-27</td>\n",
       "      <td>20</td>\n",
       "      <td>240</td>\n",
       "      <td>1.96</td>\n",
       "      <td>3.359</td>\n",
       "      <td>0.03359</td>\n",
       "      <td>4524.65</td>\n",
       "      <td>92</td>\n",
       "      <td>373732.18</td>\n",
       "      <td>...</td>\n",
       "      <td>R1</td>\n",
       "      <td>171 SOUTH 9TH   STREET</td>\n",
       "      <td>9</td>\n",
       "      <td>10001</td>\n",
       "      <td>New York City</td>\n",
       "      <td>NY</td>\n",
       "      <td>1</td>\n",
       "      <td>0</td>\n",
       "      <td>0</td>\n",
       "      <td>2</td>\n",
       "    </tr>\n",
       "    <tr>\n",
       "      <th>LL0000151</th>\n",
       "      <td>1720000.0</td>\n",
       "      <td>2014-10-14</td>\n",
       "      <td>15</td>\n",
       "      <td>180</td>\n",
       "      <td>2.21</td>\n",
       "      <td>3.508</td>\n",
       "      <td>0.03508</td>\n",
       "      <td>12302.74</td>\n",
       "      <td>62</td>\n",
       "      <td>957230.24</td>\n",
       "      <td>...</td>\n",
       "      <td>R3</td>\n",
       "      <td>1242 E 80TH ST</td>\n",
       "      <td>19</td>\n",
       "      <td>10104</td>\n",
       "      <td>New York City</td>\n",
       "      <td>NY</td>\n",
       "      <td>1</td>\n",
       "      <td>0</td>\n",
       "      <td>0</td>\n",
       "      <td>1</td>\n",
       "    </tr>\n",
       "    <tr>\n",
       "      <th>LL0000161</th>\n",
       "      <td>3720000.0</td>\n",
       "      <td>2014-06-07</td>\n",
       "      <td>15</td>\n",
       "      <td>180</td>\n",
       "      <td>2.60</td>\n",
       "      <td>3.896</td>\n",
       "      <td>0.03896</td>\n",
       "      <td>27322.92</td>\n",
       "      <td>66</td>\n",
       "      <td>1916687.35</td>\n",
       "      <td>...</td>\n",
       "      <td>R3</td>\n",
       "      <td>1884 53RD STREET</td>\n",
       "      <td>2</td>\n",
       "      <td>10029</td>\n",
       "      <td>New York City</td>\n",
       "      <td>NY</td>\n",
       "      <td>1</td>\n",
       "      <td>0</td>\n",
       "      <td>0</td>\n",
       "      <td>1</td>\n",
       "    </tr>\n",
       "    <tr>\n",
       "      <th>LL0000175</th>\n",
       "      <td>1079000.0</td>\n",
       "      <td>2012-02-23</td>\n",
       "      <td>20</td>\n",
       "      <td>240</td>\n",
       "      <td>1.99</td>\n",
       "      <td>3.389</td>\n",
       "      <td>0.03389</td>\n",
       "      <td>6196.40</td>\n",
       "      <td>94</td>\n",
       "      <td>496538.75</td>\n",
       "      <td>...</td>\n",
       "      <td>R1</td>\n",
       "      <td>79 EAGLE STREET</td>\n",
       "      <td>6</td>\n",
       "      <td>10010</td>\n",
       "      <td>New York City</td>\n",
       "      <td>NY</td>\n",
       "      <td>1</td>\n",
       "      <td>0</td>\n",
       "      <td>0</td>\n",
       "      <td>2</td>\n",
       "    </tr>\n",
       "    <tr>\n",
       "      <th>LL0000178</th>\n",
       "      <td>2028000.0</td>\n",
       "      <td>2016-04-01</td>\n",
       "      <td>20</td>\n",
       "      <td>240</td>\n",
       "      <td>1.79</td>\n",
       "      <td>3.188</td>\n",
       "      <td>0.03188</td>\n",
       "      <td>11439.05</td>\n",
       "      <td>45</td>\n",
       "      <td>1513242.57</td>\n",
       "      <td>...</td>\n",
       "      <td>RW</td>\n",
       "      <td>34 NORTH 7TH   STREET</td>\n",
       "      <td>5</td>\n",
       "      <td>10172</td>\n",
       "      <td>New York City</td>\n",
       "      <td>NY</td>\n",
       "      <td>1</td>\n",
       "      <td>0</td>\n",
       "      <td>0</td>\n",
       "      <td>4</td>\n",
       "    </tr>\n",
       "    <tr>\n",
       "      <th>...</th>\n",
       "      <td>...</td>\n",
       "      <td>...</td>\n",
       "      <td>...</td>\n",
       "      <td>...</td>\n",
       "      <td>...</td>\n",
       "      <td>...</td>\n",
       "      <td>...</td>\n",
       "      <td>...</td>\n",
       "      <td>...</td>\n",
       "      <td>...</td>\n",
       "      <td>...</td>\n",
       "      <td>...</td>\n",
       "      <td>...</td>\n",
       "      <td>...</td>\n",
       "      <td>...</td>\n",
       "      <td>...</td>\n",
       "      <td>...</td>\n",
       "      <td>...</td>\n",
       "      <td>...</td>\n",
       "      <td>...</td>\n",
       "      <td>...</td>\n",
       "    </tr>\n",
       "    <tr>\n",
       "      <th>LL0001228</th>\n",
       "      <td>528000.0</td>\n",
       "      <td>2012-11-10</td>\n",
       "      <td>20</td>\n",
       "      <td>240</td>\n",
       "      <td>1.61</td>\n",
       "      <td>3.010</td>\n",
       "      <td>0.03009</td>\n",
       "      <td>2930.65</td>\n",
       "      <td>85</td>\n",
       "      <td>278894.35</td>\n",
       "      <td>...</td>\n",
       "      <td>R6</td>\n",
       "      <td>1554 49TH   STREET</td>\n",
       "      <td>1</td>\n",
       "      <td>10158</td>\n",
       "      <td>New York City</td>\n",
       "      <td>NY</td>\n",
       "      <td>1</td>\n",
       "      <td>0</td>\n",
       "      <td>0</td>\n",
       "      <td>1</td>\n",
       "    </tr>\n",
       "    <tr>\n",
       "      <th>LL0001358</th>\n",
       "      <td>885000.0</td>\n",
       "      <td>2015-08-16</td>\n",
       "      <td>20</td>\n",
       "      <td>240</td>\n",
       "      <td>2.20</td>\n",
       "      <td>3.599</td>\n",
       "      <td>0.03599</td>\n",
       "      <td>5177.78</td>\n",
       "      <td>52</td>\n",
       "      <td>615755.47</td>\n",
       "      <td>...</td>\n",
       "      <td>R6</td>\n",
       "      <td>1554 49TH   STREET</td>\n",
       "      <td>2</td>\n",
       "      <td>10108</td>\n",
       "      <td>New York City</td>\n",
       "      <td>NY</td>\n",
       "      <td>1</td>\n",
       "      <td>0</td>\n",
       "      <td>0</td>\n",
       "      <td>1</td>\n",
       "    </tr>\n",
       "    <tr>\n",
       "      <th>LL0001479</th>\n",
       "      <td>1530000.0</td>\n",
       "      <td>2014-09-01</td>\n",
       "      <td>20</td>\n",
       "      <td>240</td>\n",
       "      <td>2.35</td>\n",
       "      <td>3.749</td>\n",
       "      <td>0.03748</td>\n",
       "      <td>9069.60</td>\n",
       "      <td>64</td>\n",
       "      <td>949545.68</td>\n",
       "      <td>...</td>\n",
       "      <td>R6</td>\n",
       "      <td>1554 49TH   STREET</td>\n",
       "      <td>3</td>\n",
       "      <td>10166</td>\n",
       "      <td>New York City</td>\n",
       "      <td>NY</td>\n",
       "      <td>1</td>\n",
       "      <td>0</td>\n",
       "      <td>0</td>\n",
       "      <td>1</td>\n",
       "    </tr>\n",
       "    <tr>\n",
       "      <th>LL0001561</th>\n",
       "      <td>897000.0</td>\n",
       "      <td>2014-02-14</td>\n",
       "      <td>15</td>\n",
       "      <td>180</td>\n",
       "      <td>2.75</td>\n",
       "      <td>4.049</td>\n",
       "      <td>0.04049</td>\n",
       "      <td>6657.05</td>\n",
       "      <td>70</td>\n",
       "      <td>431006.63</td>\n",
       "      <td>...</td>\n",
       "      <td>RR</td>\n",
       "      <td>828 BEDFORD AVENUE</td>\n",
       "      <td>2</td>\n",
       "      <td>10081</td>\n",
       "      <td>New York City</td>\n",
       "      <td>NY</td>\n",
       "      <td>11</td>\n",
       "      <td>0</td>\n",
       "      <td>16376</td>\n",
       "      <td>2</td>\n",
       "    </tr>\n",
       "    <tr>\n",
       "      <th>LL0001674</th>\n",
       "      <td>1656000.0</td>\n",
       "      <td>2016-07-12</td>\n",
       "      <td>15</td>\n",
       "      <td>180</td>\n",
       "      <td>1.53</td>\n",
       "      <td>2.828</td>\n",
       "      <td>0.02828</td>\n",
       "      <td>11299.54</td>\n",
       "      <td>41</td>\n",
       "      <td>1192718.78</td>\n",
       "      <td>...</td>\n",
       "      <td>R8</td>\n",
       "      <td>828 BEDFORD AVENUE</td>\n",
       "      <td>1</td>\n",
       "      <td>10022</td>\n",
       "      <td>New York City</td>\n",
       "      <td>NY</td>\n",
       "      <td>1</td>\n",
       "      <td>0</td>\n",
       "      <td>0</td>\n",
       "      <td>2</td>\n",
       "    </tr>\n",
       "  </tbody>\n",
       "</table>\n",
       "<p>1678 rows × 31 columns</p>\n",
       "</div>"
      ],
      "text/plain": [
       "           funded_amount funded_date duration_years duration_months  \\\n",
       "loan_id                                                               \n",
       "LL0000076       790000.0  2012-04-27             20             240   \n",
       "LL0000151      1720000.0  2014-10-14             15             180   \n",
       "LL0000161      3720000.0  2014-06-07             15             180   \n",
       "LL0000175      1079000.0  2012-02-23             20             240   \n",
       "LL0000178      2028000.0  2016-04-01             20             240   \n",
       "...                  ...         ...            ...             ...   \n",
       "LL0001228       528000.0  2012-11-10             20             240   \n",
       "LL0001358       885000.0  2015-08-16             20             240   \n",
       "LL0001479      1530000.0  2014-09-01             20             240   \n",
       "LL0001561       897000.0  2014-02-14             15             180   \n",
       "LL0001674      1656000.0  2016-07-12             15             180   \n",
       "\n",
       "           10_yr_treasury_index_date_funded  interest_rate_percent  \\\n",
       "loan_id                                                              \n",
       "LL0000076                              1.96                  3.359   \n",
       "LL0000151                              2.21                  3.508   \n",
       "LL0000161                              2.60                  3.896   \n",
       "LL0000175                              1.99                  3.389   \n",
       "LL0000178                              1.79                  3.188   \n",
       "...                                     ...                    ...   \n",
       "LL0001228                              1.61                  3.010   \n",
       "LL0001358                              2.20                  3.599   \n",
       "LL0001479                              2.35                  3.749   \n",
       "LL0001561                              2.75                  4.049   \n",
       "LL0001674                              1.53                  2.828   \n",
       "\n",
       "           interest_rate  payments  total_past_payments  loan_balance  ...  \\\n",
       "loan_id                                                                ...   \n",
       "LL0000076        0.03359   4524.65                   92     373732.18  ...   \n",
       "LL0000151        0.03508  12302.74                   62     957230.24  ...   \n",
       "LL0000161        0.03896  27322.92                   66    1916687.35  ...   \n",
       "LL0000175        0.03389   6196.40                   94     496538.75  ...   \n",
       "LL0000178        0.03188  11439.05                   45    1513242.57  ...   \n",
       "...                  ...       ...                  ...           ...  ...   \n",
       "LL0001228        0.03009   2930.65                   85     278894.35  ...   \n",
       "LL0001358        0.03599   5177.78                   52     615755.47  ...   \n",
       "LL0001479        0.03748   9069.60                   64     949545.68  ...   \n",
       "LL0001561        0.04049   6657.05                   70     431006.63  ...   \n",
       "LL0001674        0.02828  11299.54                   41    1192718.78  ...   \n",
       "\n",
       "           building_class_at_present               address_1 address_2  \\\n",
       "loan_id                                                                  \n",
       "LL0000076                         R1  171 SOUTH 9TH   STREET         9   \n",
       "LL0000151                         R3          1242 E 80TH ST        19   \n",
       "LL0000161                         R3        1884 53RD STREET         2   \n",
       "LL0000175                         R1         79 EAGLE STREET         6   \n",
       "LL0000178                         RW   34 NORTH 7TH   STREET         5   \n",
       "...                              ...                     ...       ...   \n",
       "LL0001228                         R6      1554 49TH   STREET         1   \n",
       "LL0001358                         R6      1554 49TH   STREET         2   \n",
       "LL0001479                         R6      1554 49TH   STREET         3   \n",
       "LL0001561                         RR      828 BEDFORD AVENUE         2   \n",
       "LL0001674                         R8      828 BEDFORD AVENUE         1   \n",
       "\n",
       "          zip_code           city state total_units land_square_feet  \\\n",
       "loan_id                                                                \n",
       "LL0000076    10001  New York City    NY           1                0   \n",
       "LL0000151    10104  New York City    NY           1                0   \n",
       "LL0000161    10029  New York City    NY           1                0   \n",
       "LL0000175    10010  New York City    NY           1                0   \n",
       "LL0000178    10172  New York City    NY           1                0   \n",
       "...            ...            ...   ...         ...              ...   \n",
       "LL0001228    10158  New York City    NY           1                0   \n",
       "LL0001358    10108  New York City    NY           1                0   \n",
       "LL0001479    10166  New York City    NY           1                0   \n",
       "LL0001561    10081  New York City    NY          11                0   \n",
       "LL0001674    10022  New York City    NY           1                0   \n",
       "\n",
       "          gross_square_feet tax_class_at_time_of_sale  \n",
       "loan_id                                                \n",
       "LL0000076                 0                         2  \n",
       "LL0000151                 0                         1  \n",
       "LL0000161                 0                         1  \n",
       "LL0000175                 0                         2  \n",
       "LL0000178                 0                         4  \n",
       "...                     ...                       ...  \n",
       "LL0001228                 0                         1  \n",
       "LL0001358                 0                         1  \n",
       "LL0001479                 0                         1  \n",
       "LL0001561             16376                         2  \n",
       "LL0001674                 0                         2  \n",
       "\n",
       "[1678 rows x 31 columns]"
      ]
     },
     "execution_count": 76,
     "metadata": {},
     "output_type": "execute_result"
    }
   ],
   "source": [
    "df.columns = new_cols1\n",
    "\n",
    "df"
   ]
  },
  {
   "cell_type": "code",
   "execution_count": 77,
   "metadata": {},
   "outputs": [
    {
     "data": {
      "text/html": [
       "<div>\n",
       "<style scoped>\n",
       "    .dataframe tbody tr th:only-of-type {\n",
       "        vertical-align: middle;\n",
       "    }\n",
       "\n",
       "    .dataframe tbody tr th {\n",
       "        vertical-align: top;\n",
       "    }\n",
       "\n",
       "    .dataframe thead th {\n",
       "        text-align: right;\n",
       "    }\n",
       "</style>\n",
       "<table border=\"1\" class=\"dataframe\">\n",
       "  <thead>\n",
       "    <tr style=\"text-align: right;\">\n",
       "      <th></th>\n",
       "      <th>funded_amount</th>\n",
       "      <th>10_yr_treasury_index_date_funded</th>\n",
       "      <th>interest_rate_percent</th>\n",
       "      <th>interest_rate</th>\n",
       "      <th>payments</th>\n",
       "      <th>total_past_payments</th>\n",
       "      <th>loan_balance</th>\n",
       "      <th>property_value</th>\n",
       "      <th>total_units</th>\n",
       "      <th>tax_class_at_time_of_sale</th>\n",
       "    </tr>\n",
       "  </thead>\n",
       "  <tbody>\n",
       "    <tr>\n",
       "      <th>count</th>\n",
       "      <td>1.678000e+03</td>\n",
       "      <td>1678.000000</td>\n",
       "      <td>1678.000000</td>\n",
       "      <td>1678.000000</td>\n",
       "      <td>1678.000000</td>\n",
       "      <td>1678.000000</td>\n",
       "      <td>1.678000e+03</td>\n",
       "      <td>1.678000e+03</td>\n",
       "      <td>1678.000000</td>\n",
       "      <td>1678.000000</td>\n",
       "    </tr>\n",
       "    <tr>\n",
       "      <th>mean</th>\n",
       "      <td>1.848830e+06</td>\n",
       "      <td>2.255025</td>\n",
       "      <td>3.800451</td>\n",
       "      <td>0.038004</td>\n",
       "      <td>9630.000787</td>\n",
       "      <td>47.147795</td>\n",
       "      <td>1.412786e+06</td>\n",
       "      <td>2.012219e+06</td>\n",
       "      <td>2.736591</td>\n",
       "      <td>1.870083</td>\n",
       "    </tr>\n",
       "    <tr>\n",
       "      <th>std</th>\n",
       "      <td>3.953120e+06</td>\n",
       "      <td>0.439442</td>\n",
       "      <td>0.450005</td>\n",
       "      <td>0.004500</td>\n",
       "      <td>24811.073341</td>\n",
       "      <td>28.375068</td>\n",
       "      <td>3.589084e+06</td>\n",
       "      <td>3.951243e+06</td>\n",
       "      <td>4.355791</td>\n",
       "      <td>0.670388</td>\n",
       "    </tr>\n",
       "    <tr>\n",
       "      <th>min</th>\n",
       "      <td>4.400000e+05</td>\n",
       "      <td>1.370000</td>\n",
       "      <td>2.648000</td>\n",
       "      <td>0.026480</td>\n",
       "      <td>1900.780000</td>\n",
       "      <td>0.000000</td>\n",
       "      <td>1.978503e+05</td>\n",
       "      <td>4.732000e+05</td>\n",
       "      <td>0.000000</td>\n",
       "      <td>1.000000</td>\n",
       "    </tr>\n",
       "    <tr>\n",
       "      <th>25%</th>\n",
       "      <td>1.088750e+06</td>\n",
       "      <td>1.880000</td>\n",
       "      <td>3.446500</td>\n",
       "      <td>0.034465</td>\n",
       "      <td>5256.095000</td>\n",
       "      <td>22.000000</td>\n",
       "      <td>7.343423e+05</td>\n",
       "      <td>1.229188e+06</td>\n",
       "      <td>1.000000</td>\n",
       "      <td>2.000000</td>\n",
       "    </tr>\n",
       "    <tr>\n",
       "      <th>50%</th>\n",
       "      <td>1.490000e+06</td>\n",
       "      <td>2.240000</td>\n",
       "      <td>3.787500</td>\n",
       "      <td>0.037875</td>\n",
       "      <td>7356.725000</td>\n",
       "      <td>47.000000</td>\n",
       "      <td>1.102861e+06</td>\n",
       "      <td>1.653925e+06</td>\n",
       "      <td>1.000000</td>\n",
       "      <td>2.000000</td>\n",
       "    </tr>\n",
       "    <tr>\n",
       "      <th>75%</th>\n",
       "      <td>1.848000e+06</td>\n",
       "      <td>2.600000</td>\n",
       "      <td>4.145000</td>\n",
       "      <td>0.041450</td>\n",
       "      <td>9755.227500</td>\n",
       "      <td>72.000000</td>\n",
       "      <td>1.487449e+06</td>\n",
       "      <td>2.035638e+06</td>\n",
       "      <td>4.000000</td>\n",
       "      <td>2.000000</td>\n",
       "    </tr>\n",
       "    <tr>\n",
       "      <th>max</th>\n",
       "      <td>1.560000e+08</td>\n",
       "      <td>3.230000</td>\n",
       "      <td>4.828000</td>\n",
       "      <td>0.048280</td>\n",
       "      <td>981383.990000</td>\n",
       "      <td>96.000000</td>\n",
       "      <td>1.432420e+08</td>\n",
       "      <td>1.560209e+08</td>\n",
       "      <td>72.000000</td>\n",
       "      <td>4.000000</td>\n",
       "    </tr>\n",
       "  </tbody>\n",
       "</table>\n",
       "</div>"
      ],
      "text/plain": [
       "       funded_amount  10_yr_treasury_index_date_funded  interest_rate_percent  \\\n",
       "count   1.678000e+03                       1678.000000            1678.000000   \n",
       "mean    1.848830e+06                          2.255025               3.800451   \n",
       "std     3.953120e+06                          0.439442               0.450005   \n",
       "min     4.400000e+05                          1.370000               2.648000   \n",
       "25%     1.088750e+06                          1.880000               3.446500   \n",
       "50%     1.490000e+06                          2.240000               3.787500   \n",
       "75%     1.848000e+06                          2.600000               4.145000   \n",
       "max     1.560000e+08                          3.230000               4.828000   \n",
       "\n",
       "       interest_rate       payments  total_past_payments  loan_balance  \\\n",
       "count    1678.000000    1678.000000          1678.000000  1.678000e+03   \n",
       "mean        0.038004    9630.000787            47.147795  1.412786e+06   \n",
       "std         0.004500   24811.073341            28.375068  3.589084e+06   \n",
       "min         0.026480    1900.780000             0.000000  1.978503e+05   \n",
       "25%         0.034465    5256.095000            22.000000  7.343423e+05   \n",
       "50%         0.037875    7356.725000            47.000000  1.102861e+06   \n",
       "75%         0.041450    9755.227500            72.000000  1.487449e+06   \n",
       "max         0.048280  981383.990000            96.000000  1.432420e+08   \n",
       "\n",
       "       property_value  total_units  tax_class_at_time_of_sale  \n",
       "count    1.678000e+03  1678.000000                1678.000000  \n",
       "mean     2.012219e+06     2.736591                   1.870083  \n",
       "std      3.951243e+06     4.355791                   0.670388  \n",
       "min      4.732000e+05     0.000000                   1.000000  \n",
       "25%      1.229188e+06     1.000000                   2.000000  \n",
       "50%      1.653925e+06     1.000000                   2.000000  \n",
       "75%      2.035638e+06     4.000000                   2.000000  \n",
       "max      1.560209e+08    72.000000                   4.000000  "
      ]
     },
     "execution_count": 77,
     "metadata": {},
     "output_type": "execute_result"
    }
   ],
   "source": [
    "df.describe()"
   ]
  },
  {
   "cell_type": "code",
   "execution_count": 80,
   "metadata": {},
   "outputs": [
    {
     "data": {
      "text/html": [
       "<div>\n",
       "<style scoped>\n",
       "    .dataframe tbody tr th:only-of-type {\n",
       "        vertical-align: middle;\n",
       "    }\n",
       "\n",
       "    .dataframe tbody tr th {\n",
       "        vertical-align: top;\n",
       "    }\n",
       "\n",
       "    .dataframe thead th {\n",
       "        text-align: right;\n",
       "    }\n",
       "</style>\n",
       "<table border=\"1\" class=\"dataframe\">\n",
       "  <thead>\n",
       "    <tr style=\"text-align: right;\">\n",
       "      <th></th>\n",
       "      <th>duration_years</th>\n",
       "      <th>duration_months</th>\n",
       "      <th>purpose</th>\n",
       "      <th>firstname</th>\n",
       "      <th>middlename</th>\n",
       "      <th>lastname</th>\n",
       "      <th>social</th>\n",
       "      <th>phone</th>\n",
       "      <th>title</th>\n",
       "      <th>employment_length</th>\n",
       "      <th>building_class_category</th>\n",
       "      <th>tax_class_at_present</th>\n",
       "      <th>building_class_at_present</th>\n",
       "      <th>address_1</th>\n",
       "      <th>address_2</th>\n",
       "      <th>zip_code</th>\n",
       "      <th>city</th>\n",
       "      <th>state</th>\n",
       "      <th>land_square_feet</th>\n",
       "      <th>gross_square_feet</th>\n",
       "    </tr>\n",
       "  </thead>\n",
       "  <tbody>\n",
       "    <tr>\n",
       "      <th>count</th>\n",
       "      <td>1678</td>\n",
       "      <td>1678</td>\n",
       "      <td>1678</td>\n",
       "      <td>1678</td>\n",
       "      <td>1678</td>\n",
       "      <td>1678</td>\n",
       "      <td>1678</td>\n",
       "      <td>1678</td>\n",
       "      <td>1666</td>\n",
       "      <td>1678</td>\n",
       "      <td>1678</td>\n",
       "      <td>1678</td>\n",
       "      <td>1678</td>\n",
       "      <td>1678</td>\n",
       "      <td>1678</td>\n",
       "      <td>1678</td>\n",
       "      <td>1678</td>\n",
       "      <td>1678</td>\n",
       "      <td>1678</td>\n",
       "      <td>1678</td>\n",
       "    </tr>\n",
       "    <tr>\n",
       "      <th>unique</th>\n",
       "      <td>4</td>\n",
       "      <td>4</td>\n",
       "      <td>5</td>\n",
       "      <td>952</td>\n",
       "      <td>777</td>\n",
       "      <td>1034</td>\n",
       "      <td>1678</td>\n",
       "      <td>1678</td>\n",
       "      <td>870</td>\n",
       "      <td>18</td>\n",
       "      <td>24</td>\n",
       "      <td>8</td>\n",
       "      <td>46</td>\n",
       "      <td>1309</td>\n",
       "      <td>56</td>\n",
       "      <td>109</td>\n",
       "      <td>1</td>\n",
       "      <td>1</td>\n",
       "      <td>202</td>\n",
       "      <td>294</td>\n",
       "    </tr>\n",
       "    <tr>\n",
       "      <th>top</th>\n",
       "      <td>30</td>\n",
       "      <td>360</td>\n",
       "      <td>investment property</td>\n",
       "      <td>Noah</td>\n",
       "      <td>Charlotte</td>\n",
       "      <td>Johnson</td>\n",
       "      <td>972-69-4236</td>\n",
       "      <td>542-843-5089</td>\n",
       "      <td>Owner</td>\n",
       "      <td>10</td>\n",
       "      <td>15 CONDOS - 2-10 UNIT RESIDENTIAL</td>\n",
       "      <td>2C</td>\n",
       "      <td>R1</td>\n",
       "      <td>3030 WEST 32ND   STREET</td>\n",
       "      <td>4</td>\n",
       "      <td>10022</td>\n",
       "      <td>New York City</td>\n",
       "      <td>NY</td>\n",
       "      <td>0</td>\n",
       "      <td>0</td>\n",
       "    </tr>\n",
       "    <tr>\n",
       "      <th>freq</th>\n",
       "      <td>1369</td>\n",
       "      <td>1369</td>\n",
       "      <td>536</td>\n",
       "      <td>7</td>\n",
       "      <td>21</td>\n",
       "      <td>11</td>\n",
       "      <td>1</td>\n",
       "      <td>1</td>\n",
       "      <td>52</td>\n",
       "      <td>111</td>\n",
       "      <td>466</td>\n",
       "      <td>482</td>\n",
       "      <td>466</td>\n",
       "      <td>10</td>\n",
       "      <td>276</td>\n",
       "      <td>25</td>\n",
       "      <td>1678</td>\n",
       "      <td>1678</td>\n",
       "      <td>774</td>\n",
       "      <td>776</td>\n",
       "    </tr>\n",
       "  </tbody>\n",
       "</table>\n",
       "</div>"
      ],
      "text/plain": [
       "        duration_years  duration_months              purpose firstname  \\\n",
       "count             1678             1678                 1678      1678   \n",
       "unique               4                4                    5       952   \n",
       "top                 30              360  investment property      Noah   \n",
       "freq              1369             1369                  536         7   \n",
       "\n",
       "       middlename lastname       social         phone  title  \\\n",
       "count        1678     1678         1678          1678   1666   \n",
       "unique        777     1034         1678          1678    870   \n",
       "top     Charlotte  Johnson  972-69-4236  542-843-5089  Owner   \n",
       "freq           21       11            1             1     52   \n",
       "\n",
       "        employment_length                      building_class_category  \\\n",
       "count                1678                                         1678   \n",
       "unique                 18                                           24   \n",
       "top                    10  15 CONDOS - 2-10 UNIT RESIDENTIAL             \n",
       "freq                  111                                          466   \n",
       "\n",
       "       tax_class_at_present building_class_at_present  \\\n",
       "count                  1678                      1678   \n",
       "unique                    8                        46   \n",
       "top                      2C                        R1   \n",
       "freq                    482                       466   \n",
       "\n",
       "                      address_1 address_2  zip_code           city state  \\\n",
       "count                      1678      1678      1678           1678  1678   \n",
       "unique                     1309        56       109              1     1   \n",
       "top     3030 WEST 32ND   STREET         4     10022  New York City    NY   \n",
       "freq                         10       276        25           1678  1678   \n",
       "\n",
       "       land_square_feet gross_square_feet  \n",
       "count              1678              1678  \n",
       "unique              202               294  \n",
       "top                   0                 0  \n",
       "freq                774               776  "
      ]
     },
     "execution_count": 80,
     "metadata": {},
     "output_type": "execute_result"
    }
   ],
   "source": [
    "df.describe(include=[\"object\",\"category\"])"
   ]
  },
  {
   "attachments": {},
   "cell_type": "markdown",
   "metadata": {},
   "source": [
    "## find out what average loan_int_rate was for loans issued across various years!"
   ]
  },
  {
   "cell_type": "code",
   "execution_count": 81,
   "metadata": {},
   "outputs": [
    {
     "data": {
      "text/plain": [
       "loan_id\n",
       "LL0000076   2012-04-27\n",
       "LL0000151   2014-10-14\n",
       "LL0000161   2014-06-07\n",
       "LL0000175   2012-02-23\n",
       "LL0000178   2016-04-01\n",
       "               ...    \n",
       "LL0001228   2012-11-10\n",
       "LL0001358   2015-08-16\n",
       "LL0001479   2014-09-01\n",
       "LL0001561   2014-02-14\n",
       "LL0001674   2016-07-12\n",
       "Name: funded_date, Length: 1678, dtype: datetime64[ns]"
      ]
     },
     "execution_count": 81,
     "metadata": {},
     "output_type": "execute_result"
    }
   ],
   "source": [
    "df['funded_date'] #series"
   ]
  },
  {
   "cell_type": "code",
   "execution_count": 82,
   "metadata": {},
   "outputs": [
    {
     "data": {
      "text/html": [
       "<div>\n",
       "<style scoped>\n",
       "    .dataframe tbody tr th:only-of-type {\n",
       "        vertical-align: middle;\n",
       "    }\n",
       "\n",
       "    .dataframe tbody tr th {\n",
       "        vertical-align: top;\n",
       "    }\n",
       "\n",
       "    .dataframe thead th {\n",
       "        text-align: right;\n",
       "    }\n",
       "</style>\n",
       "<table border=\"1\" class=\"dataframe\">\n",
       "  <thead>\n",
       "    <tr style=\"text-align: right;\">\n",
       "      <th></th>\n",
       "      <th>average_interest_rate</th>\n",
       "    </tr>\n",
       "    <tr>\n",
       "      <th>year</th>\n",
       "      <th></th>\n",
       "    </tr>\n",
       "  </thead>\n",
       "  <tbody>\n",
       "    <tr>\n",
       "      <th>2012</th>\n",
       "      <td>3.352764</td>\n",
       "    </tr>\n",
       "    <tr>\n",
       "      <th>2013</th>\n",
       "      <td>3.822271</td>\n",
       "    </tr>\n",
       "    <tr>\n",
       "      <th>2014</th>\n",
       "      <td>4.067668</td>\n",
       "    </tr>\n",
       "    <tr>\n",
       "      <th>2015</th>\n",
       "      <td>3.686834</td>\n",
       "    </tr>\n",
       "    <tr>\n",
       "      <th>2016</th>\n",
       "      <td>3.387654</td>\n",
       "    </tr>\n",
       "    <tr>\n",
       "      <th>2017</th>\n",
       "      <td>3.847892</td>\n",
       "    </tr>\n",
       "    <tr>\n",
       "      <th>2018</th>\n",
       "      <td>4.476456</td>\n",
       "    </tr>\n",
       "    <tr>\n",
       "      <th>2019</th>\n",
       "      <td>3.701891</td>\n",
       "    </tr>\n",
       "  </tbody>\n",
       "</table>\n",
       "</div>"
      ],
      "text/plain": [
       "      average_interest_rate\n",
       "year                       \n",
       "2012               3.352764\n",
       "2013               3.822271\n",
       "2014               4.067668\n",
       "2015               3.686834\n",
       "2016               3.387654\n",
       "2017               3.847892\n",
       "2018               4.476456\n",
       "2019               3.701891"
      ]
     },
     "execution_count": 82,
     "metadata": {},
     "output_type": "execute_result"
    }
   ],
   "source": [
    "result = df.resample(  'Y',  on='funded_date'  ) [   ['interest_rate_percent']    ].mean()\n",
    "\n",
    "result.index  =   result.index.year\n",
    "\n",
    "result =  result.rename(      columns = {\"interest_rate_percent\" :   \"average_interest_rate\"}     ) #rename columns\n",
    "\n",
    "result = result.rename_axis(   \"year\"   ) #change index\n",
    "\n",
    "result"
   ]
  },
  {
   "cell_type": "code",
   "execution_count": 83,
   "metadata": {},
   "outputs": [
    {
     "data": {
      "application/vnd.plotly.v1+json": {
       "config": {
        "plotlyServerURL": "https://plot.ly"
       },
       "data": [
        {
         "alignmentgroup": "True",
         "hovertemplate": "variable=average_interest_rate<br>year=%{x}<br>value=%{y}<extra></extra>",
         "legendgroup": "average_interest_rate",
         "marker": {
          "color": "#636efa",
          "pattern": {
           "shape": ""
          }
         },
         "name": "average_interest_rate",
         "offsetgroup": "average_interest_rate",
         "orientation": "v",
         "showlegend": true,
         "textposition": "auto",
         "type": "bar",
         "x": [
          2012,
          2013,
          2014,
          2015,
          2016,
          2017,
          2018,
          2019
         ],
         "xaxis": "x",
         "y": [
          3.352763888888889,
          3.8222705314009664,
          4.067668224299066,
          3.6868341968911915,
          3.3876536585365855,
          3.8478917525773193,
          4.476456140350877,
          3.7018914027149323
         ],
         "yaxis": "y"
        }
       ],
       "layout": {
        "barmode": "relative",
        "legend": {
         "title": {
          "text": "variable"
         },
         "tracegroupgap": 0
        },
        "margin": {
         "t": 60
        },
        "template": {
         "data": {
          "bar": [
           {
            "error_x": {
             "color": "#2a3f5f"
            },
            "error_y": {
             "color": "#2a3f5f"
            },
            "marker": {
             "line": {
              "color": "#E5ECF6",
              "width": 0.5
             },
             "pattern": {
              "fillmode": "overlay",
              "size": 10,
              "solidity": 0.2
             }
            },
            "type": "bar"
           }
          ],
          "barpolar": [
           {
            "marker": {
             "line": {
              "color": "#E5ECF6",
              "width": 0.5
             },
             "pattern": {
              "fillmode": "overlay",
              "size": 10,
              "solidity": 0.2
             }
            },
            "type": "barpolar"
           }
          ],
          "carpet": [
           {
            "aaxis": {
             "endlinecolor": "#2a3f5f",
             "gridcolor": "white",
             "linecolor": "white",
             "minorgridcolor": "white",
             "startlinecolor": "#2a3f5f"
            },
            "baxis": {
             "endlinecolor": "#2a3f5f",
             "gridcolor": "white",
             "linecolor": "white",
             "minorgridcolor": "white",
             "startlinecolor": "#2a3f5f"
            },
            "type": "carpet"
           }
          ],
          "choropleth": [
           {
            "colorbar": {
             "outlinewidth": 0,
             "ticks": ""
            },
            "type": "choropleth"
           }
          ],
          "contour": [
           {
            "colorbar": {
             "outlinewidth": 0,
             "ticks": ""
            },
            "colorscale": [
             [
              0,
              "#0d0887"
             ],
             [
              0.1111111111111111,
              "#46039f"
             ],
             [
              0.2222222222222222,
              "#7201a8"
             ],
             [
              0.3333333333333333,
              "#9c179e"
             ],
             [
              0.4444444444444444,
              "#bd3786"
             ],
             [
              0.5555555555555556,
              "#d8576b"
             ],
             [
              0.6666666666666666,
              "#ed7953"
             ],
             [
              0.7777777777777778,
              "#fb9f3a"
             ],
             [
              0.8888888888888888,
              "#fdca26"
             ],
             [
              1,
              "#f0f921"
             ]
            ],
            "type": "contour"
           }
          ],
          "contourcarpet": [
           {
            "colorbar": {
             "outlinewidth": 0,
             "ticks": ""
            },
            "type": "contourcarpet"
           }
          ],
          "heatmap": [
           {
            "colorbar": {
             "outlinewidth": 0,
             "ticks": ""
            },
            "colorscale": [
             [
              0,
              "#0d0887"
             ],
             [
              0.1111111111111111,
              "#46039f"
             ],
             [
              0.2222222222222222,
              "#7201a8"
             ],
             [
              0.3333333333333333,
              "#9c179e"
             ],
             [
              0.4444444444444444,
              "#bd3786"
             ],
             [
              0.5555555555555556,
              "#d8576b"
             ],
             [
              0.6666666666666666,
              "#ed7953"
             ],
             [
              0.7777777777777778,
              "#fb9f3a"
             ],
             [
              0.8888888888888888,
              "#fdca26"
             ],
             [
              1,
              "#f0f921"
             ]
            ],
            "type": "heatmap"
           }
          ],
          "heatmapgl": [
           {
            "colorbar": {
             "outlinewidth": 0,
             "ticks": ""
            },
            "colorscale": [
             [
              0,
              "#0d0887"
             ],
             [
              0.1111111111111111,
              "#46039f"
             ],
             [
              0.2222222222222222,
              "#7201a8"
             ],
             [
              0.3333333333333333,
              "#9c179e"
             ],
             [
              0.4444444444444444,
              "#bd3786"
             ],
             [
              0.5555555555555556,
              "#d8576b"
             ],
             [
              0.6666666666666666,
              "#ed7953"
             ],
             [
              0.7777777777777778,
              "#fb9f3a"
             ],
             [
              0.8888888888888888,
              "#fdca26"
             ],
             [
              1,
              "#f0f921"
             ]
            ],
            "type": "heatmapgl"
           }
          ],
          "histogram": [
           {
            "marker": {
             "pattern": {
              "fillmode": "overlay",
              "size": 10,
              "solidity": 0.2
             }
            },
            "type": "histogram"
           }
          ],
          "histogram2d": [
           {
            "colorbar": {
             "outlinewidth": 0,
             "ticks": ""
            },
            "colorscale": [
             [
              0,
              "#0d0887"
             ],
             [
              0.1111111111111111,
              "#46039f"
             ],
             [
              0.2222222222222222,
              "#7201a8"
             ],
             [
              0.3333333333333333,
              "#9c179e"
             ],
             [
              0.4444444444444444,
              "#bd3786"
             ],
             [
              0.5555555555555556,
              "#d8576b"
             ],
             [
              0.6666666666666666,
              "#ed7953"
             ],
             [
              0.7777777777777778,
              "#fb9f3a"
             ],
             [
              0.8888888888888888,
              "#fdca26"
             ],
             [
              1,
              "#f0f921"
             ]
            ],
            "type": "histogram2d"
           }
          ],
          "histogram2dcontour": [
           {
            "colorbar": {
             "outlinewidth": 0,
             "ticks": ""
            },
            "colorscale": [
             [
              0,
              "#0d0887"
             ],
             [
              0.1111111111111111,
              "#46039f"
             ],
             [
              0.2222222222222222,
              "#7201a8"
             ],
             [
              0.3333333333333333,
              "#9c179e"
             ],
             [
              0.4444444444444444,
              "#bd3786"
             ],
             [
              0.5555555555555556,
              "#d8576b"
             ],
             [
              0.6666666666666666,
              "#ed7953"
             ],
             [
              0.7777777777777778,
              "#fb9f3a"
             ],
             [
              0.8888888888888888,
              "#fdca26"
             ],
             [
              1,
              "#f0f921"
             ]
            ],
            "type": "histogram2dcontour"
           }
          ],
          "mesh3d": [
           {
            "colorbar": {
             "outlinewidth": 0,
             "ticks": ""
            },
            "type": "mesh3d"
           }
          ],
          "parcoords": [
           {
            "line": {
             "colorbar": {
              "outlinewidth": 0,
              "ticks": ""
             }
            },
            "type": "parcoords"
           }
          ],
          "pie": [
           {
            "automargin": true,
            "type": "pie"
           }
          ],
          "scatter": [
           {
            "fillpattern": {
             "fillmode": "overlay",
             "size": 10,
             "solidity": 0.2
            },
            "type": "scatter"
           }
          ],
          "scatter3d": [
           {
            "line": {
             "colorbar": {
              "outlinewidth": 0,
              "ticks": ""
             }
            },
            "marker": {
             "colorbar": {
              "outlinewidth": 0,
              "ticks": ""
             }
            },
            "type": "scatter3d"
           }
          ],
          "scattercarpet": [
           {
            "marker": {
             "colorbar": {
              "outlinewidth": 0,
              "ticks": ""
             }
            },
            "type": "scattercarpet"
           }
          ],
          "scattergeo": [
           {
            "marker": {
             "colorbar": {
              "outlinewidth": 0,
              "ticks": ""
             }
            },
            "type": "scattergeo"
           }
          ],
          "scattergl": [
           {
            "marker": {
             "colorbar": {
              "outlinewidth": 0,
              "ticks": ""
             }
            },
            "type": "scattergl"
           }
          ],
          "scattermapbox": [
           {
            "marker": {
             "colorbar": {
              "outlinewidth": 0,
              "ticks": ""
             }
            },
            "type": "scattermapbox"
           }
          ],
          "scatterpolar": [
           {
            "marker": {
             "colorbar": {
              "outlinewidth": 0,
              "ticks": ""
             }
            },
            "type": "scatterpolar"
           }
          ],
          "scatterpolargl": [
           {
            "marker": {
             "colorbar": {
              "outlinewidth": 0,
              "ticks": ""
             }
            },
            "type": "scatterpolargl"
           }
          ],
          "scatterternary": [
           {
            "marker": {
             "colorbar": {
              "outlinewidth": 0,
              "ticks": ""
             }
            },
            "type": "scatterternary"
           }
          ],
          "surface": [
           {
            "colorbar": {
             "outlinewidth": 0,
             "ticks": ""
            },
            "colorscale": [
             [
              0,
              "#0d0887"
             ],
             [
              0.1111111111111111,
              "#46039f"
             ],
             [
              0.2222222222222222,
              "#7201a8"
             ],
             [
              0.3333333333333333,
              "#9c179e"
             ],
             [
              0.4444444444444444,
              "#bd3786"
             ],
             [
              0.5555555555555556,
              "#d8576b"
             ],
             [
              0.6666666666666666,
              "#ed7953"
             ],
             [
              0.7777777777777778,
              "#fb9f3a"
             ],
             [
              0.8888888888888888,
              "#fdca26"
             ],
             [
              1,
              "#f0f921"
             ]
            ],
            "type": "surface"
           }
          ],
          "table": [
           {
            "cells": {
             "fill": {
              "color": "#EBF0F8"
             },
             "line": {
              "color": "white"
             }
            },
            "header": {
             "fill": {
              "color": "#C8D4E3"
             },
             "line": {
              "color": "white"
             }
            },
            "type": "table"
           }
          ]
         },
         "layout": {
          "annotationdefaults": {
           "arrowcolor": "#2a3f5f",
           "arrowhead": 0,
           "arrowwidth": 1
          },
          "autotypenumbers": "strict",
          "coloraxis": {
           "colorbar": {
            "outlinewidth": 0,
            "ticks": ""
           }
          },
          "colorscale": {
           "diverging": [
            [
             0,
             "#8e0152"
            ],
            [
             0.1,
             "#c51b7d"
            ],
            [
             0.2,
             "#de77ae"
            ],
            [
             0.3,
             "#f1b6da"
            ],
            [
             0.4,
             "#fde0ef"
            ],
            [
             0.5,
             "#f7f7f7"
            ],
            [
             0.6,
             "#e6f5d0"
            ],
            [
             0.7,
             "#b8e186"
            ],
            [
             0.8,
             "#7fbc41"
            ],
            [
             0.9,
             "#4d9221"
            ],
            [
             1,
             "#276419"
            ]
           ],
           "sequential": [
            [
             0,
             "#0d0887"
            ],
            [
             0.1111111111111111,
             "#46039f"
            ],
            [
             0.2222222222222222,
             "#7201a8"
            ],
            [
             0.3333333333333333,
             "#9c179e"
            ],
            [
             0.4444444444444444,
             "#bd3786"
            ],
            [
             0.5555555555555556,
             "#d8576b"
            ],
            [
             0.6666666666666666,
             "#ed7953"
            ],
            [
             0.7777777777777778,
             "#fb9f3a"
            ],
            [
             0.8888888888888888,
             "#fdca26"
            ],
            [
             1,
             "#f0f921"
            ]
           ],
           "sequentialminus": [
            [
             0,
             "#0d0887"
            ],
            [
             0.1111111111111111,
             "#46039f"
            ],
            [
             0.2222222222222222,
             "#7201a8"
            ],
            [
             0.3333333333333333,
             "#9c179e"
            ],
            [
             0.4444444444444444,
             "#bd3786"
            ],
            [
             0.5555555555555556,
             "#d8576b"
            ],
            [
             0.6666666666666666,
             "#ed7953"
            ],
            [
             0.7777777777777778,
             "#fb9f3a"
            ],
            [
             0.8888888888888888,
             "#fdca26"
            ],
            [
             1,
             "#f0f921"
            ]
           ]
          },
          "colorway": [
           "#636efa",
           "#EF553B",
           "#00cc96",
           "#ab63fa",
           "#FFA15A",
           "#19d3f3",
           "#FF6692",
           "#B6E880",
           "#FF97FF",
           "#FECB52"
          ],
          "font": {
           "color": "#2a3f5f"
          },
          "geo": {
           "bgcolor": "white",
           "lakecolor": "white",
           "landcolor": "#E5ECF6",
           "showlakes": true,
           "showland": true,
           "subunitcolor": "white"
          },
          "hoverlabel": {
           "align": "left"
          },
          "hovermode": "closest",
          "mapbox": {
           "style": "light"
          },
          "paper_bgcolor": "white",
          "plot_bgcolor": "#E5ECF6",
          "polar": {
           "angularaxis": {
            "gridcolor": "white",
            "linecolor": "white",
            "ticks": ""
           },
           "bgcolor": "#E5ECF6",
           "radialaxis": {
            "gridcolor": "white",
            "linecolor": "white",
            "ticks": ""
           }
          },
          "scene": {
           "xaxis": {
            "backgroundcolor": "#E5ECF6",
            "gridcolor": "white",
            "gridwidth": 2,
            "linecolor": "white",
            "showbackground": true,
            "ticks": "",
            "zerolinecolor": "white"
           },
           "yaxis": {
            "backgroundcolor": "#E5ECF6",
            "gridcolor": "white",
            "gridwidth": 2,
            "linecolor": "white",
            "showbackground": true,
            "ticks": "",
            "zerolinecolor": "white"
           },
           "zaxis": {
            "backgroundcolor": "#E5ECF6",
            "gridcolor": "white",
            "gridwidth": 2,
            "linecolor": "white",
            "showbackground": true,
            "ticks": "",
            "zerolinecolor": "white"
           }
          },
          "shapedefaults": {
           "line": {
            "color": "#2a3f5f"
           }
          },
          "ternary": {
           "aaxis": {
            "gridcolor": "white",
            "linecolor": "white",
            "ticks": ""
           },
           "baxis": {
            "gridcolor": "white",
            "linecolor": "white",
            "ticks": ""
           },
           "bgcolor": "#E5ECF6",
           "caxis": {
            "gridcolor": "white",
            "linecolor": "white",
            "ticks": ""
           }
          },
          "title": {
           "x": 0.05
          },
          "xaxis": {
           "automargin": true,
           "gridcolor": "white",
           "linecolor": "white",
           "ticks": "",
           "title": {
            "standoff": 15
           },
           "zerolinecolor": "white",
           "zerolinewidth": 2
          },
          "yaxis": {
           "automargin": true,
           "gridcolor": "white",
           "linecolor": "white",
           "ticks": "",
           "title": {
            "standoff": 15
           },
           "zerolinecolor": "white",
           "zerolinewidth": 2
          }
         }
        },
        "xaxis": {
         "anchor": "y",
         "domain": [
          0,
          1
         ],
         "title": {
          "text": "year"
         }
        },
        "yaxis": {
         "anchor": "x",
         "domain": [
          0,
          1
         ],
         "title": {
          "text": "value"
         }
        }
       }
      }
     },
     "metadata": {},
     "output_type": "display_data"
    }
   ],
   "source": [
    "pe.bar(     data_frame=result       )"
   ]
  },
  {
   "cell_type": "code",
   "execution_count": 84,
   "metadata": {},
   "outputs": [
    {
     "data": {
      "application/vnd.plotly.v1+json": {
       "config": {
        "plotlyServerURL": "https://plot.ly"
       },
       "data": [
        {
         "hovertemplate": "variable=average_interest_rate<br>year=%{x}<br>value=%{y}<extra></extra>",
         "legendgroup": "average_interest_rate",
         "line": {
          "color": "#636efa",
          "dash": "solid"
         },
         "marker": {
          "symbol": "circle"
         },
         "mode": "lines+markers",
         "name": "average_interest_rate",
         "orientation": "v",
         "showlegend": true,
         "type": "scatter",
         "x": [
          2012,
          2013,
          2014,
          2015,
          2016,
          2017,
          2018,
          2019
         ],
         "xaxis": "x",
         "y": [
          3.352763888888889,
          3.8222705314009664,
          4.067668224299066,
          3.6868341968911915,
          3.3876536585365855,
          3.8478917525773193,
          4.476456140350877,
          3.7018914027149323
         ],
         "yaxis": "y"
        }
       ],
       "layout": {
        "legend": {
         "title": {
          "text": "variable"
         },
         "tracegroupgap": 0
        },
        "margin": {
         "t": 60
        },
        "template": {
         "data": {
          "bar": [
           {
            "error_x": {
             "color": "#2a3f5f"
            },
            "error_y": {
             "color": "#2a3f5f"
            },
            "marker": {
             "line": {
              "color": "#E5ECF6",
              "width": 0.5
             },
             "pattern": {
              "fillmode": "overlay",
              "size": 10,
              "solidity": 0.2
             }
            },
            "type": "bar"
           }
          ],
          "barpolar": [
           {
            "marker": {
             "line": {
              "color": "#E5ECF6",
              "width": 0.5
             },
             "pattern": {
              "fillmode": "overlay",
              "size": 10,
              "solidity": 0.2
             }
            },
            "type": "barpolar"
           }
          ],
          "carpet": [
           {
            "aaxis": {
             "endlinecolor": "#2a3f5f",
             "gridcolor": "white",
             "linecolor": "white",
             "minorgridcolor": "white",
             "startlinecolor": "#2a3f5f"
            },
            "baxis": {
             "endlinecolor": "#2a3f5f",
             "gridcolor": "white",
             "linecolor": "white",
             "minorgridcolor": "white",
             "startlinecolor": "#2a3f5f"
            },
            "type": "carpet"
           }
          ],
          "choropleth": [
           {
            "colorbar": {
             "outlinewidth": 0,
             "ticks": ""
            },
            "type": "choropleth"
           }
          ],
          "contour": [
           {
            "colorbar": {
             "outlinewidth": 0,
             "ticks": ""
            },
            "colorscale": [
             [
              0,
              "#0d0887"
             ],
             [
              0.1111111111111111,
              "#46039f"
             ],
             [
              0.2222222222222222,
              "#7201a8"
             ],
             [
              0.3333333333333333,
              "#9c179e"
             ],
             [
              0.4444444444444444,
              "#bd3786"
             ],
             [
              0.5555555555555556,
              "#d8576b"
             ],
             [
              0.6666666666666666,
              "#ed7953"
             ],
             [
              0.7777777777777778,
              "#fb9f3a"
             ],
             [
              0.8888888888888888,
              "#fdca26"
             ],
             [
              1,
              "#f0f921"
             ]
            ],
            "type": "contour"
           }
          ],
          "contourcarpet": [
           {
            "colorbar": {
             "outlinewidth": 0,
             "ticks": ""
            },
            "type": "contourcarpet"
           }
          ],
          "heatmap": [
           {
            "colorbar": {
             "outlinewidth": 0,
             "ticks": ""
            },
            "colorscale": [
             [
              0,
              "#0d0887"
             ],
             [
              0.1111111111111111,
              "#46039f"
             ],
             [
              0.2222222222222222,
              "#7201a8"
             ],
             [
              0.3333333333333333,
              "#9c179e"
             ],
             [
              0.4444444444444444,
              "#bd3786"
             ],
             [
              0.5555555555555556,
              "#d8576b"
             ],
             [
              0.6666666666666666,
              "#ed7953"
             ],
             [
              0.7777777777777778,
              "#fb9f3a"
             ],
             [
              0.8888888888888888,
              "#fdca26"
             ],
             [
              1,
              "#f0f921"
             ]
            ],
            "type": "heatmap"
           }
          ],
          "heatmapgl": [
           {
            "colorbar": {
             "outlinewidth": 0,
             "ticks": ""
            },
            "colorscale": [
             [
              0,
              "#0d0887"
             ],
             [
              0.1111111111111111,
              "#46039f"
             ],
             [
              0.2222222222222222,
              "#7201a8"
             ],
             [
              0.3333333333333333,
              "#9c179e"
             ],
             [
              0.4444444444444444,
              "#bd3786"
             ],
             [
              0.5555555555555556,
              "#d8576b"
             ],
             [
              0.6666666666666666,
              "#ed7953"
             ],
             [
              0.7777777777777778,
              "#fb9f3a"
             ],
             [
              0.8888888888888888,
              "#fdca26"
             ],
             [
              1,
              "#f0f921"
             ]
            ],
            "type": "heatmapgl"
           }
          ],
          "histogram": [
           {
            "marker": {
             "pattern": {
              "fillmode": "overlay",
              "size": 10,
              "solidity": 0.2
             }
            },
            "type": "histogram"
           }
          ],
          "histogram2d": [
           {
            "colorbar": {
             "outlinewidth": 0,
             "ticks": ""
            },
            "colorscale": [
             [
              0,
              "#0d0887"
             ],
             [
              0.1111111111111111,
              "#46039f"
             ],
             [
              0.2222222222222222,
              "#7201a8"
             ],
             [
              0.3333333333333333,
              "#9c179e"
             ],
             [
              0.4444444444444444,
              "#bd3786"
             ],
             [
              0.5555555555555556,
              "#d8576b"
             ],
             [
              0.6666666666666666,
              "#ed7953"
             ],
             [
              0.7777777777777778,
              "#fb9f3a"
             ],
             [
              0.8888888888888888,
              "#fdca26"
             ],
             [
              1,
              "#f0f921"
             ]
            ],
            "type": "histogram2d"
           }
          ],
          "histogram2dcontour": [
           {
            "colorbar": {
             "outlinewidth": 0,
             "ticks": ""
            },
            "colorscale": [
             [
              0,
              "#0d0887"
             ],
             [
              0.1111111111111111,
              "#46039f"
             ],
             [
              0.2222222222222222,
              "#7201a8"
             ],
             [
              0.3333333333333333,
              "#9c179e"
             ],
             [
              0.4444444444444444,
              "#bd3786"
             ],
             [
              0.5555555555555556,
              "#d8576b"
             ],
             [
              0.6666666666666666,
              "#ed7953"
             ],
             [
              0.7777777777777778,
              "#fb9f3a"
             ],
             [
              0.8888888888888888,
              "#fdca26"
             ],
             [
              1,
              "#f0f921"
             ]
            ],
            "type": "histogram2dcontour"
           }
          ],
          "mesh3d": [
           {
            "colorbar": {
             "outlinewidth": 0,
             "ticks": ""
            },
            "type": "mesh3d"
           }
          ],
          "parcoords": [
           {
            "line": {
             "colorbar": {
              "outlinewidth": 0,
              "ticks": ""
             }
            },
            "type": "parcoords"
           }
          ],
          "pie": [
           {
            "automargin": true,
            "type": "pie"
           }
          ],
          "scatter": [
           {
            "fillpattern": {
             "fillmode": "overlay",
             "size": 10,
             "solidity": 0.2
            },
            "type": "scatter"
           }
          ],
          "scatter3d": [
           {
            "line": {
             "colorbar": {
              "outlinewidth": 0,
              "ticks": ""
             }
            },
            "marker": {
             "colorbar": {
              "outlinewidth": 0,
              "ticks": ""
             }
            },
            "type": "scatter3d"
           }
          ],
          "scattercarpet": [
           {
            "marker": {
             "colorbar": {
              "outlinewidth": 0,
              "ticks": ""
             }
            },
            "type": "scattercarpet"
           }
          ],
          "scattergeo": [
           {
            "marker": {
             "colorbar": {
              "outlinewidth": 0,
              "ticks": ""
             }
            },
            "type": "scattergeo"
           }
          ],
          "scattergl": [
           {
            "marker": {
             "colorbar": {
              "outlinewidth": 0,
              "ticks": ""
             }
            },
            "type": "scattergl"
           }
          ],
          "scattermapbox": [
           {
            "marker": {
             "colorbar": {
              "outlinewidth": 0,
              "ticks": ""
             }
            },
            "type": "scattermapbox"
           }
          ],
          "scatterpolar": [
           {
            "marker": {
             "colorbar": {
              "outlinewidth": 0,
              "ticks": ""
             }
            },
            "type": "scatterpolar"
           }
          ],
          "scatterpolargl": [
           {
            "marker": {
             "colorbar": {
              "outlinewidth": 0,
              "ticks": ""
             }
            },
            "type": "scatterpolargl"
           }
          ],
          "scatterternary": [
           {
            "marker": {
             "colorbar": {
              "outlinewidth": 0,
              "ticks": ""
             }
            },
            "type": "scatterternary"
           }
          ],
          "surface": [
           {
            "colorbar": {
             "outlinewidth": 0,
             "ticks": ""
            },
            "colorscale": [
             [
              0,
              "#0d0887"
             ],
             [
              0.1111111111111111,
              "#46039f"
             ],
             [
              0.2222222222222222,
              "#7201a8"
             ],
             [
              0.3333333333333333,
              "#9c179e"
             ],
             [
              0.4444444444444444,
              "#bd3786"
             ],
             [
              0.5555555555555556,
              "#d8576b"
             ],
             [
              0.6666666666666666,
              "#ed7953"
             ],
             [
              0.7777777777777778,
              "#fb9f3a"
             ],
             [
              0.8888888888888888,
              "#fdca26"
             ],
             [
              1,
              "#f0f921"
             ]
            ],
            "type": "surface"
           }
          ],
          "table": [
           {
            "cells": {
             "fill": {
              "color": "#EBF0F8"
             },
             "line": {
              "color": "white"
             }
            },
            "header": {
             "fill": {
              "color": "#C8D4E3"
             },
             "line": {
              "color": "white"
             }
            },
            "type": "table"
           }
          ]
         },
         "layout": {
          "annotationdefaults": {
           "arrowcolor": "#2a3f5f",
           "arrowhead": 0,
           "arrowwidth": 1
          },
          "autotypenumbers": "strict",
          "coloraxis": {
           "colorbar": {
            "outlinewidth": 0,
            "ticks": ""
           }
          },
          "colorscale": {
           "diverging": [
            [
             0,
             "#8e0152"
            ],
            [
             0.1,
             "#c51b7d"
            ],
            [
             0.2,
             "#de77ae"
            ],
            [
             0.3,
             "#f1b6da"
            ],
            [
             0.4,
             "#fde0ef"
            ],
            [
             0.5,
             "#f7f7f7"
            ],
            [
             0.6,
             "#e6f5d0"
            ],
            [
             0.7,
             "#b8e186"
            ],
            [
             0.8,
             "#7fbc41"
            ],
            [
             0.9,
             "#4d9221"
            ],
            [
             1,
             "#276419"
            ]
           ],
           "sequential": [
            [
             0,
             "#0d0887"
            ],
            [
             0.1111111111111111,
             "#46039f"
            ],
            [
             0.2222222222222222,
             "#7201a8"
            ],
            [
             0.3333333333333333,
             "#9c179e"
            ],
            [
             0.4444444444444444,
             "#bd3786"
            ],
            [
             0.5555555555555556,
             "#d8576b"
            ],
            [
             0.6666666666666666,
             "#ed7953"
            ],
            [
             0.7777777777777778,
             "#fb9f3a"
            ],
            [
             0.8888888888888888,
             "#fdca26"
            ],
            [
             1,
             "#f0f921"
            ]
           ],
           "sequentialminus": [
            [
             0,
             "#0d0887"
            ],
            [
             0.1111111111111111,
             "#46039f"
            ],
            [
             0.2222222222222222,
             "#7201a8"
            ],
            [
             0.3333333333333333,
             "#9c179e"
            ],
            [
             0.4444444444444444,
             "#bd3786"
            ],
            [
             0.5555555555555556,
             "#d8576b"
            ],
            [
             0.6666666666666666,
             "#ed7953"
            ],
            [
             0.7777777777777778,
             "#fb9f3a"
            ],
            [
             0.8888888888888888,
             "#fdca26"
            ],
            [
             1,
             "#f0f921"
            ]
           ]
          },
          "colorway": [
           "#636efa",
           "#EF553B",
           "#00cc96",
           "#ab63fa",
           "#FFA15A",
           "#19d3f3",
           "#FF6692",
           "#B6E880",
           "#FF97FF",
           "#FECB52"
          ],
          "font": {
           "color": "#2a3f5f"
          },
          "geo": {
           "bgcolor": "white",
           "lakecolor": "white",
           "landcolor": "#E5ECF6",
           "showlakes": true,
           "showland": true,
           "subunitcolor": "white"
          },
          "hoverlabel": {
           "align": "left"
          },
          "hovermode": "closest",
          "mapbox": {
           "style": "light"
          },
          "paper_bgcolor": "white",
          "plot_bgcolor": "#E5ECF6",
          "polar": {
           "angularaxis": {
            "gridcolor": "white",
            "linecolor": "white",
            "ticks": ""
           },
           "bgcolor": "#E5ECF6",
           "radialaxis": {
            "gridcolor": "white",
            "linecolor": "white",
            "ticks": ""
           }
          },
          "scene": {
           "xaxis": {
            "backgroundcolor": "#E5ECF6",
            "gridcolor": "white",
            "gridwidth": 2,
            "linecolor": "white",
            "showbackground": true,
            "ticks": "",
            "zerolinecolor": "white"
           },
           "yaxis": {
            "backgroundcolor": "#E5ECF6",
            "gridcolor": "white",
            "gridwidth": 2,
            "linecolor": "white",
            "showbackground": true,
            "ticks": "",
            "zerolinecolor": "white"
           },
           "zaxis": {
            "backgroundcolor": "#E5ECF6",
            "gridcolor": "white",
            "gridwidth": 2,
            "linecolor": "white",
            "showbackground": true,
            "ticks": "",
            "zerolinecolor": "white"
           }
          },
          "shapedefaults": {
           "line": {
            "color": "#2a3f5f"
           }
          },
          "ternary": {
           "aaxis": {
            "gridcolor": "white",
            "linecolor": "white",
            "ticks": ""
           },
           "baxis": {
            "gridcolor": "white",
            "linecolor": "white",
            "ticks": ""
           },
           "bgcolor": "#E5ECF6",
           "caxis": {
            "gridcolor": "white",
            "linecolor": "white",
            "ticks": ""
           }
          },
          "title": {
           "x": 0.05
          },
          "xaxis": {
           "automargin": true,
           "gridcolor": "white",
           "linecolor": "white",
           "ticks": "",
           "title": {
            "standoff": 15
           },
           "zerolinecolor": "white",
           "zerolinewidth": 2
          },
          "yaxis": {
           "automargin": true,
           "gridcolor": "white",
           "linecolor": "white",
           "ticks": "",
           "title": {
            "standoff": 15
           },
           "zerolinecolor": "white",
           "zerolinewidth": 2
          }
         }
        },
        "xaxis": {
         "anchor": "y",
         "domain": [
          0,
          1
         ],
         "title": {
          "text": "year"
         }
        },
        "yaxis": {
         "anchor": "x",
         "domain": [
          0,
          1
         ],
         "title": {
          "text": "value"
         }
        }
       }
      }
     },
     "metadata": {},
     "output_type": "display_data"
    }
   ],
   "source": [
    "pe.line(     data_frame=result,markers=True       )"
   ]
  },
  {
   "attachments": {},
   "cell_type": "markdown",
   "metadata": {},
   "source": [
    "Pandas operations\n",
    "\n",
    "1) basic operations: columns, shape, index, nunique(), info(), describe()\n",
    "2) filtering operations : how to write conditions and apply them on data , between()\n",
    "3) grouping operations: groupby with specific keys, aggregates\n",
    "4) resample operations\n",
    "5) data cleaning, rename, rename_axis, changing column headers, etc"
   ]
  },
  {
   "attachments": {},
   "cell_type": "markdown",
   "metadata": {},
   "source": [
    "## shifting time-series data"
   ]
  },
  {
   "cell_type": "code",
   "execution_count": 85,
   "metadata": {},
   "outputs": [
    {
     "data": {
      "text/html": [
       "<div>\n",
       "<style scoped>\n",
       "    .dataframe tbody tr th:only-of-type {\n",
       "        vertical-align: middle;\n",
       "    }\n",
       "\n",
       "    .dataframe tbody tr th {\n",
       "        vertical-align: top;\n",
       "    }\n",
       "\n",
       "    .dataframe thead th {\n",
       "        text-align: right;\n",
       "    }\n",
       "</style>\n",
       "<table border=\"1\" class=\"dataframe\">\n",
       "  <thead>\n",
       "    <tr style=\"text-align: right;\">\n",
       "      <th></th>\n",
       "      <th>average_interest_rate</th>\n",
       "      <th>previous_average_interest_rate</th>\n",
       "      <th>Difference</th>\n",
       "    </tr>\n",
       "    <tr>\n",
       "      <th>year</th>\n",
       "      <th></th>\n",
       "      <th></th>\n",
       "      <th></th>\n",
       "    </tr>\n",
       "  </thead>\n",
       "  <tbody>\n",
       "    <tr>\n",
       "      <th>2012</th>\n",
       "      <td>3.352764</td>\n",
       "      <td>NaN</td>\n",
       "      <td>NaN</td>\n",
       "    </tr>\n",
       "    <tr>\n",
       "      <th>2013</th>\n",
       "      <td>3.822271</td>\n",
       "      <td>3.352764</td>\n",
       "      <td>0.469507</td>\n",
       "    </tr>\n",
       "    <tr>\n",
       "      <th>2014</th>\n",
       "      <td>4.067668</td>\n",
       "      <td>3.822271</td>\n",
       "      <td>0.245398</td>\n",
       "    </tr>\n",
       "    <tr>\n",
       "      <th>2015</th>\n",
       "      <td>3.686834</td>\n",
       "      <td>4.067668</td>\n",
       "      <td>-0.380834</td>\n",
       "    </tr>\n",
       "    <tr>\n",
       "      <th>2016</th>\n",
       "      <td>3.387654</td>\n",
       "      <td>3.686834</td>\n",
       "      <td>-0.299181</td>\n",
       "    </tr>\n",
       "    <tr>\n",
       "      <th>2017</th>\n",
       "      <td>3.847892</td>\n",
       "      <td>3.387654</td>\n",
       "      <td>0.460238</td>\n",
       "    </tr>\n",
       "    <tr>\n",
       "      <th>2018</th>\n",
       "      <td>4.476456</td>\n",
       "      <td>3.847892</td>\n",
       "      <td>0.628564</td>\n",
       "    </tr>\n",
       "    <tr>\n",
       "      <th>2019</th>\n",
       "      <td>3.701891</td>\n",
       "      <td>4.476456</td>\n",
       "      <td>-0.774565</td>\n",
       "    </tr>\n",
       "  </tbody>\n",
       "</table>\n",
       "</div>"
      ],
      "text/plain": [
       "      average_interest_rate  previous_average_interest_rate  Difference\n",
       "year                                                                   \n",
       "2012               3.352764                             NaN         NaN\n",
       "2013               3.822271                        3.352764    0.469507\n",
       "2014               4.067668                        3.822271    0.245398\n",
       "2015               3.686834                        4.067668   -0.380834\n",
       "2016               3.387654                        3.686834   -0.299181\n",
       "2017               3.847892                        3.387654    0.460238\n",
       "2018               4.476456                        3.847892    0.628564\n",
       "2019               3.701891                        4.476456   -0.774565"
      ]
     },
     "execution_count": 85,
     "metadata": {},
     "output_type": "execute_result"
    }
   ],
   "source": [
    "ans=result['average_interest_rate'].shift(1) #push rows by 1 and calculate ans\n",
    "\n",
    "result[     'previous_average_interest_rate'     ] = ans #assign shifted data to a new column\n",
    "\n",
    "result['Difference'] = result['average_interest_rate']   -  result['previous_average_interest_rate']\n",
    "\n",
    "result"
   ]
  },
  {
   "cell_type": "code",
   "execution_count": 86,
   "metadata": {},
   "outputs": [
    {
     "data": {
      "application/vnd.plotly.v1+json": {
       "config": {
        "plotlyServerURL": "https://plot.ly"
       },
       "data": [
        {
         "hovertemplate": "variable=average_interest_rate<br>year=%{x}<br>value=%{y}<extra></extra>",
         "legendgroup": "average_interest_rate",
         "line": {
          "color": "#636efa",
          "dash": "solid"
         },
         "marker": {
          "symbol": "circle"
         },
         "mode": "lines+markers",
         "name": "average_interest_rate",
         "orientation": "v",
         "showlegend": true,
         "type": "scatter",
         "x": [
          2012,
          2013,
          2014,
          2015,
          2016,
          2017,
          2018,
          2019
         ],
         "xaxis": "x",
         "y": [
          3.352763888888889,
          3.8222705314009664,
          4.067668224299066,
          3.6868341968911915,
          3.3876536585365855,
          3.8478917525773193,
          4.476456140350877,
          3.7018914027149323
         ],
         "yaxis": "y"
        },
        {
         "hovertemplate": "variable=previous_average_interest_rate<br>year=%{x}<br>value=%{y}<extra></extra>",
         "legendgroup": "previous_average_interest_rate",
         "line": {
          "color": "#EF553B",
          "dash": "solid"
         },
         "marker": {
          "symbol": "circle"
         },
         "mode": "lines+markers",
         "name": "previous_average_interest_rate",
         "orientation": "v",
         "showlegend": true,
         "type": "scatter",
         "x": [
          2012,
          2013,
          2014,
          2015,
          2016,
          2017,
          2018,
          2019
         ],
         "xaxis": "x",
         "y": [
          null,
          3.352763888888889,
          3.8222705314009664,
          4.067668224299066,
          3.6868341968911915,
          3.3876536585365855,
          3.8478917525773193,
          4.476456140350877
         ],
         "yaxis": "y"
        },
        {
         "hovertemplate": "variable=Difference<br>year=%{x}<br>value=%{y}<extra></extra>",
         "legendgroup": "Difference",
         "line": {
          "color": "#00cc96",
          "dash": "solid"
         },
         "marker": {
          "symbol": "circle"
         },
         "mode": "lines+markers",
         "name": "Difference",
         "orientation": "v",
         "showlegend": true,
         "type": "scatter",
         "x": [
          2012,
          2013,
          2014,
          2015,
          2016,
          2017,
          2018,
          2019
         ],
         "xaxis": "x",
         "y": [
          null,
          0.4695066425120773,
          0.24539769289809943,
          -0.3808340274078743,
          -0.299180538354606,
          0.4602380940407338,
          0.628564387773558,
          -0.774564737635945
         ],
         "yaxis": "y"
        }
       ],
       "layout": {
        "legend": {
         "title": {
          "text": "variable"
         },
         "tracegroupgap": 0
        },
        "margin": {
         "t": 60
        },
        "template": {
         "data": {
          "bar": [
           {
            "error_x": {
             "color": "#2a3f5f"
            },
            "error_y": {
             "color": "#2a3f5f"
            },
            "marker": {
             "line": {
              "color": "#E5ECF6",
              "width": 0.5
             },
             "pattern": {
              "fillmode": "overlay",
              "size": 10,
              "solidity": 0.2
             }
            },
            "type": "bar"
           }
          ],
          "barpolar": [
           {
            "marker": {
             "line": {
              "color": "#E5ECF6",
              "width": 0.5
             },
             "pattern": {
              "fillmode": "overlay",
              "size": 10,
              "solidity": 0.2
             }
            },
            "type": "barpolar"
           }
          ],
          "carpet": [
           {
            "aaxis": {
             "endlinecolor": "#2a3f5f",
             "gridcolor": "white",
             "linecolor": "white",
             "minorgridcolor": "white",
             "startlinecolor": "#2a3f5f"
            },
            "baxis": {
             "endlinecolor": "#2a3f5f",
             "gridcolor": "white",
             "linecolor": "white",
             "minorgridcolor": "white",
             "startlinecolor": "#2a3f5f"
            },
            "type": "carpet"
           }
          ],
          "choropleth": [
           {
            "colorbar": {
             "outlinewidth": 0,
             "ticks": ""
            },
            "type": "choropleth"
           }
          ],
          "contour": [
           {
            "colorbar": {
             "outlinewidth": 0,
             "ticks": ""
            },
            "colorscale": [
             [
              0,
              "#0d0887"
             ],
             [
              0.1111111111111111,
              "#46039f"
             ],
             [
              0.2222222222222222,
              "#7201a8"
             ],
             [
              0.3333333333333333,
              "#9c179e"
             ],
             [
              0.4444444444444444,
              "#bd3786"
             ],
             [
              0.5555555555555556,
              "#d8576b"
             ],
             [
              0.6666666666666666,
              "#ed7953"
             ],
             [
              0.7777777777777778,
              "#fb9f3a"
             ],
             [
              0.8888888888888888,
              "#fdca26"
             ],
             [
              1,
              "#f0f921"
             ]
            ],
            "type": "contour"
           }
          ],
          "contourcarpet": [
           {
            "colorbar": {
             "outlinewidth": 0,
             "ticks": ""
            },
            "type": "contourcarpet"
           }
          ],
          "heatmap": [
           {
            "colorbar": {
             "outlinewidth": 0,
             "ticks": ""
            },
            "colorscale": [
             [
              0,
              "#0d0887"
             ],
             [
              0.1111111111111111,
              "#46039f"
             ],
             [
              0.2222222222222222,
              "#7201a8"
             ],
             [
              0.3333333333333333,
              "#9c179e"
             ],
             [
              0.4444444444444444,
              "#bd3786"
             ],
             [
              0.5555555555555556,
              "#d8576b"
             ],
             [
              0.6666666666666666,
              "#ed7953"
             ],
             [
              0.7777777777777778,
              "#fb9f3a"
             ],
             [
              0.8888888888888888,
              "#fdca26"
             ],
             [
              1,
              "#f0f921"
             ]
            ],
            "type": "heatmap"
           }
          ],
          "heatmapgl": [
           {
            "colorbar": {
             "outlinewidth": 0,
             "ticks": ""
            },
            "colorscale": [
             [
              0,
              "#0d0887"
             ],
             [
              0.1111111111111111,
              "#46039f"
             ],
             [
              0.2222222222222222,
              "#7201a8"
             ],
             [
              0.3333333333333333,
              "#9c179e"
             ],
             [
              0.4444444444444444,
              "#bd3786"
             ],
             [
              0.5555555555555556,
              "#d8576b"
             ],
             [
              0.6666666666666666,
              "#ed7953"
             ],
             [
              0.7777777777777778,
              "#fb9f3a"
             ],
             [
              0.8888888888888888,
              "#fdca26"
             ],
             [
              1,
              "#f0f921"
             ]
            ],
            "type": "heatmapgl"
           }
          ],
          "histogram": [
           {
            "marker": {
             "pattern": {
              "fillmode": "overlay",
              "size": 10,
              "solidity": 0.2
             }
            },
            "type": "histogram"
           }
          ],
          "histogram2d": [
           {
            "colorbar": {
             "outlinewidth": 0,
             "ticks": ""
            },
            "colorscale": [
             [
              0,
              "#0d0887"
             ],
             [
              0.1111111111111111,
              "#46039f"
             ],
             [
              0.2222222222222222,
              "#7201a8"
             ],
             [
              0.3333333333333333,
              "#9c179e"
             ],
             [
              0.4444444444444444,
              "#bd3786"
             ],
             [
              0.5555555555555556,
              "#d8576b"
             ],
             [
              0.6666666666666666,
              "#ed7953"
             ],
             [
              0.7777777777777778,
              "#fb9f3a"
             ],
             [
              0.8888888888888888,
              "#fdca26"
             ],
             [
              1,
              "#f0f921"
             ]
            ],
            "type": "histogram2d"
           }
          ],
          "histogram2dcontour": [
           {
            "colorbar": {
             "outlinewidth": 0,
             "ticks": ""
            },
            "colorscale": [
             [
              0,
              "#0d0887"
             ],
             [
              0.1111111111111111,
              "#46039f"
             ],
             [
              0.2222222222222222,
              "#7201a8"
             ],
             [
              0.3333333333333333,
              "#9c179e"
             ],
             [
              0.4444444444444444,
              "#bd3786"
             ],
             [
              0.5555555555555556,
              "#d8576b"
             ],
             [
              0.6666666666666666,
              "#ed7953"
             ],
             [
              0.7777777777777778,
              "#fb9f3a"
             ],
             [
              0.8888888888888888,
              "#fdca26"
             ],
             [
              1,
              "#f0f921"
             ]
            ],
            "type": "histogram2dcontour"
           }
          ],
          "mesh3d": [
           {
            "colorbar": {
             "outlinewidth": 0,
             "ticks": ""
            },
            "type": "mesh3d"
           }
          ],
          "parcoords": [
           {
            "line": {
             "colorbar": {
              "outlinewidth": 0,
              "ticks": ""
             }
            },
            "type": "parcoords"
           }
          ],
          "pie": [
           {
            "automargin": true,
            "type": "pie"
           }
          ],
          "scatter": [
           {
            "fillpattern": {
             "fillmode": "overlay",
             "size": 10,
             "solidity": 0.2
            },
            "type": "scatter"
           }
          ],
          "scatter3d": [
           {
            "line": {
             "colorbar": {
              "outlinewidth": 0,
              "ticks": ""
             }
            },
            "marker": {
             "colorbar": {
              "outlinewidth": 0,
              "ticks": ""
             }
            },
            "type": "scatter3d"
           }
          ],
          "scattercarpet": [
           {
            "marker": {
             "colorbar": {
              "outlinewidth": 0,
              "ticks": ""
             }
            },
            "type": "scattercarpet"
           }
          ],
          "scattergeo": [
           {
            "marker": {
             "colorbar": {
              "outlinewidth": 0,
              "ticks": ""
             }
            },
            "type": "scattergeo"
           }
          ],
          "scattergl": [
           {
            "marker": {
             "colorbar": {
              "outlinewidth": 0,
              "ticks": ""
             }
            },
            "type": "scattergl"
           }
          ],
          "scattermapbox": [
           {
            "marker": {
             "colorbar": {
              "outlinewidth": 0,
              "ticks": ""
             }
            },
            "type": "scattermapbox"
           }
          ],
          "scatterpolar": [
           {
            "marker": {
             "colorbar": {
              "outlinewidth": 0,
              "ticks": ""
             }
            },
            "type": "scatterpolar"
           }
          ],
          "scatterpolargl": [
           {
            "marker": {
             "colorbar": {
              "outlinewidth": 0,
              "ticks": ""
             }
            },
            "type": "scatterpolargl"
           }
          ],
          "scatterternary": [
           {
            "marker": {
             "colorbar": {
              "outlinewidth": 0,
              "ticks": ""
             }
            },
            "type": "scatterternary"
           }
          ],
          "surface": [
           {
            "colorbar": {
             "outlinewidth": 0,
             "ticks": ""
            },
            "colorscale": [
             [
              0,
              "#0d0887"
             ],
             [
              0.1111111111111111,
              "#46039f"
             ],
             [
              0.2222222222222222,
              "#7201a8"
             ],
             [
              0.3333333333333333,
              "#9c179e"
             ],
             [
              0.4444444444444444,
              "#bd3786"
             ],
             [
              0.5555555555555556,
              "#d8576b"
             ],
             [
              0.6666666666666666,
              "#ed7953"
             ],
             [
              0.7777777777777778,
              "#fb9f3a"
             ],
             [
              0.8888888888888888,
              "#fdca26"
             ],
             [
              1,
              "#f0f921"
             ]
            ],
            "type": "surface"
           }
          ],
          "table": [
           {
            "cells": {
             "fill": {
              "color": "#EBF0F8"
             },
             "line": {
              "color": "white"
             }
            },
            "header": {
             "fill": {
              "color": "#C8D4E3"
             },
             "line": {
              "color": "white"
             }
            },
            "type": "table"
           }
          ]
         },
         "layout": {
          "annotationdefaults": {
           "arrowcolor": "#2a3f5f",
           "arrowhead": 0,
           "arrowwidth": 1
          },
          "autotypenumbers": "strict",
          "coloraxis": {
           "colorbar": {
            "outlinewidth": 0,
            "ticks": ""
           }
          },
          "colorscale": {
           "diverging": [
            [
             0,
             "#8e0152"
            ],
            [
             0.1,
             "#c51b7d"
            ],
            [
             0.2,
             "#de77ae"
            ],
            [
             0.3,
             "#f1b6da"
            ],
            [
             0.4,
             "#fde0ef"
            ],
            [
             0.5,
             "#f7f7f7"
            ],
            [
             0.6,
             "#e6f5d0"
            ],
            [
             0.7,
             "#b8e186"
            ],
            [
             0.8,
             "#7fbc41"
            ],
            [
             0.9,
             "#4d9221"
            ],
            [
             1,
             "#276419"
            ]
           ],
           "sequential": [
            [
             0,
             "#0d0887"
            ],
            [
             0.1111111111111111,
             "#46039f"
            ],
            [
             0.2222222222222222,
             "#7201a8"
            ],
            [
             0.3333333333333333,
             "#9c179e"
            ],
            [
             0.4444444444444444,
             "#bd3786"
            ],
            [
             0.5555555555555556,
             "#d8576b"
            ],
            [
             0.6666666666666666,
             "#ed7953"
            ],
            [
             0.7777777777777778,
             "#fb9f3a"
            ],
            [
             0.8888888888888888,
             "#fdca26"
            ],
            [
             1,
             "#f0f921"
            ]
           ],
           "sequentialminus": [
            [
             0,
             "#0d0887"
            ],
            [
             0.1111111111111111,
             "#46039f"
            ],
            [
             0.2222222222222222,
             "#7201a8"
            ],
            [
             0.3333333333333333,
             "#9c179e"
            ],
            [
             0.4444444444444444,
             "#bd3786"
            ],
            [
             0.5555555555555556,
             "#d8576b"
            ],
            [
             0.6666666666666666,
             "#ed7953"
            ],
            [
             0.7777777777777778,
             "#fb9f3a"
            ],
            [
             0.8888888888888888,
             "#fdca26"
            ],
            [
             1,
             "#f0f921"
            ]
           ]
          },
          "colorway": [
           "#636efa",
           "#EF553B",
           "#00cc96",
           "#ab63fa",
           "#FFA15A",
           "#19d3f3",
           "#FF6692",
           "#B6E880",
           "#FF97FF",
           "#FECB52"
          ],
          "font": {
           "color": "#2a3f5f"
          },
          "geo": {
           "bgcolor": "white",
           "lakecolor": "white",
           "landcolor": "#E5ECF6",
           "showlakes": true,
           "showland": true,
           "subunitcolor": "white"
          },
          "hoverlabel": {
           "align": "left"
          },
          "hovermode": "closest",
          "mapbox": {
           "style": "light"
          },
          "paper_bgcolor": "white",
          "plot_bgcolor": "#E5ECF6",
          "polar": {
           "angularaxis": {
            "gridcolor": "white",
            "linecolor": "white",
            "ticks": ""
           },
           "bgcolor": "#E5ECF6",
           "radialaxis": {
            "gridcolor": "white",
            "linecolor": "white",
            "ticks": ""
           }
          },
          "scene": {
           "xaxis": {
            "backgroundcolor": "#E5ECF6",
            "gridcolor": "white",
            "gridwidth": 2,
            "linecolor": "white",
            "showbackground": true,
            "ticks": "",
            "zerolinecolor": "white"
           },
           "yaxis": {
            "backgroundcolor": "#E5ECF6",
            "gridcolor": "white",
            "gridwidth": 2,
            "linecolor": "white",
            "showbackground": true,
            "ticks": "",
            "zerolinecolor": "white"
           },
           "zaxis": {
            "backgroundcolor": "#E5ECF6",
            "gridcolor": "white",
            "gridwidth": 2,
            "linecolor": "white",
            "showbackground": true,
            "ticks": "",
            "zerolinecolor": "white"
           }
          },
          "shapedefaults": {
           "line": {
            "color": "#2a3f5f"
           }
          },
          "ternary": {
           "aaxis": {
            "gridcolor": "white",
            "linecolor": "white",
            "ticks": ""
           },
           "baxis": {
            "gridcolor": "white",
            "linecolor": "white",
            "ticks": ""
           },
           "bgcolor": "#E5ECF6",
           "caxis": {
            "gridcolor": "white",
            "linecolor": "white",
            "ticks": ""
           }
          },
          "title": {
           "x": 0.05
          },
          "xaxis": {
           "automargin": true,
           "gridcolor": "white",
           "linecolor": "white",
           "ticks": "",
           "title": {
            "standoff": 15
           },
           "zerolinecolor": "white",
           "zerolinewidth": 2
          },
          "yaxis": {
           "automargin": true,
           "gridcolor": "white",
           "linecolor": "white",
           "ticks": "",
           "title": {
            "standoff": 15
           },
           "zerolinecolor": "white",
           "zerolinewidth": 2
          }
         }
        },
        "xaxis": {
         "anchor": "y",
         "domain": [
          0,
          1
         ],
         "title": {
          "text": "year"
         }
        },
        "yaxis": {
         "anchor": "x",
         "domain": [
          0,
          1
         ],
         "title": {
          "text": "value"
         }
        }
       }
      }
     },
     "metadata": {},
     "output_type": "display_data"
    }
   ],
   "source": [
    "pe.line(    y=result.columns, data_frame=result,markers=True  )"
   ]
  },
  {
   "cell_type": "code",
   "execution_count": 87,
   "metadata": {},
   "outputs": [
    {
     "data": {
      "text/plain": [
       "Index(['funded_amount', 'funded_date', 'duration_years', 'duration_months',\n",
       "       '10_yr_treasury_index_date_funded', 'interest_rate_percent',\n",
       "       'interest_rate', 'payments', 'total_past_payments', 'loan_balance',\n",
       "       'property_value', 'purpose', 'firstname', 'middlename', 'lastname',\n",
       "       'social', 'phone', 'title', 'employment_length',\n",
       "       'building_class_category', 'tax_class_at_present',\n",
       "       'building_class_at_present', 'address_1', 'address_2', 'zip_code',\n",
       "       'city', 'state', 'total_units', 'land_square_feet', 'gross_square_feet',\n",
       "       'tax_class_at_time_of_sale'],\n",
       "      dtype='object')"
      ]
     },
     "execution_count": 87,
     "metadata": {},
     "output_type": "execute_result"
    }
   ],
   "source": [
    "df.columns"
   ]
  },
  {
   "attachments": {},
   "cell_type": "markdown",
   "metadata": {},
   "source": [
    "### find the average of loan_amounts funded for each type of loan_intention(purposes)"
   ]
  },
  {
   "attachments": {},
   "cell_type": "markdown",
   "metadata": {},
   "source": [
    "### find out records of all loans disbursed where interest rate was below 4 percent. Find the averae loan_amount (funded amount) for such loans"
   ]
  },
  {
   "attachments": {},
   "cell_type": "markdown",
   "metadata": {},
   "source": [
    "### find average, min & max loan interest rate (monthly basis) for loan disbursed in 2014. Plot this data using a relevant graph"
   ]
  },
  {
   "cell_type": "markdown",
   "metadata": {},
   "source": []
  },
  {
   "cell_type": "markdown",
   "metadata": {},
   "source": []
  },
  {
   "cell_type": "markdown",
   "metadata": {},
   "source": []
  },
  {
   "cell_type": "markdown",
   "metadata": {},
   "source": []
  },
  {
   "cell_type": "markdown",
   "metadata": {},
   "source": []
  }
 ],
 "metadata": {
  "kernelspec": {
   "display_name": "Python 3",
   "language": "python",
   "name": "python3"
  },
  "language_info": {
   "codemirror_mode": {
    "name": "ipython",
    "version": 3
   },
   "file_extension": ".py",
   "mimetype": "text/x-python",
   "name": "python",
   "nbconvert_exporter": "python",
   "pygments_lexer": "ipython3",
   "version": "3.11.1"
  },
  "orig_nbformat": 4,
  "vscode": {
   "interpreter": {
    "hash": "b5366fdf1b75ea46866cbb0dbf20c9c00a492271cd056179d726b8c91a378c13"
   }
  }
 },
 "nbformat": 4,
 "nbformat_minor": 2
}
